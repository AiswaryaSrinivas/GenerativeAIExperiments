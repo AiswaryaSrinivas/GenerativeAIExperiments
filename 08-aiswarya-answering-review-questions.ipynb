{
 "cells": [
  {
   "cell_type": "code",
   "execution_count": 4,
   "metadata": {},
   "outputs": [],
   "source": [
    "from langchain.llms import LlamaCpp\n",
    "import pandas as pd\n",
    "import swifter\n",
    "from multiprocessing import Pool\n",
    "import re\n",
    "import os\n",
    "def remove_html_tags(text):\n",
    "    \"\"\"Remove html tags from a string\"\"\"\n",
    "    import re\n",
    "    clean = re.compile('<.*?>')\n",
    "    return re.sub(clean, '', text)\n"
   ]
  },
  {
   "cell_type": "code",
   "execution_count": 5,
   "metadata": {},
   "outputs": [],
   "source": [
    "FILE_PATH=\"/Users/aiswaryaramachandran/Library/CloudStorage/OneDrive-Personal/bikewala/Harley_X440_reviews.csv\"\n"
   ]
  },
  {
   "cell_type": "code",
   "execution_count": 6,
   "metadata": {},
   "outputs": [
    {
     "data": {
      "text/plain": [
       "(22, 38)"
      ]
     },
     "execution_count": 6,
     "metadata": {},
     "output_type": "execute_result"
    }
   ],
   "source": [
    "data=pd.read_csv(FILE_PATH)\n",
    "data.shape"
   ]
  },
  {
   "cell_type": "code",
   "execution_count": 7,
   "metadata": {},
   "outputs": [
    {
     "data": {
      "text/html": [
       "<div>\n",
       "<style scoped>\n",
       "    .dataframe tbody tr th:only-of-type {\n",
       "        vertical-align: middle;\n",
       "    }\n",
       "\n",
       "    .dataframe tbody tr th {\n",
       "        vertical-align: top;\n",
       "    }\n",
       "\n",
       "    .dataframe thead th {\n",
       "        text-align: right;\n",
       "    }\n",
       "</style>\n",
       "<table border=\"1\" class=\"dataframe\">\n",
       "  <thead>\n",
       "    <tr style=\"text-align: right;\">\n",
       "      <th></th>\n",
       "      <th>STARS</th>\n",
       "      <th>MAKE</th>\n",
       "      <th>MODEL</th>\n",
       "      <th>MODELID</th>\n",
       "      <th>ORIGINALIMGPATH</th>\n",
       "      <th>ORIGINALIMAGEPATH</th>\n",
       "      <th>HOSTURL</th>\n",
       "      <th>DESCRIPTION</th>\n",
       "      <th>SANITIZEDDESCRIPTION</th>\n",
       "      <th>SHORTDESCRIPTION</th>\n",
       "      <th>...</th>\n",
       "      <th>REVIEWAGE</th>\n",
       "      <th>ISRATINGQUESTION</th>\n",
       "      <th>RATINGQUESTIONSCOUNT</th>\n",
       "      <th>REVIEWURL</th>\n",
       "      <th>THANKSHEADING</th>\n",
       "      <th>THANKSTEXT</th>\n",
       "      <th>TOTALRATINGS</th>\n",
       "      <th>TOTALREVIEWS</th>\n",
       "      <th>OVERALLMODELRATING</th>\n",
       "      <th>REPORTEDMILEAGE</th>\n",
       "    </tr>\n",
       "  </thead>\n",
       "  <tbody>\n",
       "    <tr>\n",
       "      <th>0</th>\n",
       "      <td>5</td>\n",
       "      <td>Harley-Davidson</td>\n",
       "      <td>X440</td>\n",
       "      <td>2453</td>\n",
       "      <td>NaN</td>\n",
       "      <td>NaN</td>\n",
       "      <td>NaN</td>\n",
       "      <td>The buying experience of the Harley Davidson x...</td>\n",
       "      <td>The buying experience of the Harley Davidson x...</td>\n",
       "      <td>The buying experience of the Harley Davidson x...</td>\n",
       "      <td>...</td>\n",
       "      <td>4 months ago</td>\n",
       "      <td>True</td>\n",
       "      <td>3</td>\n",
       "      <td>https://www.bikewale.com/harleydavidson-bikes/...</td>\n",
       "      <td>Tell us more about your experience</td>\n",
       "      <td>Write a detailed review and help fellow riders...</td>\n",
       "      <td>0</td>\n",
       "      <td>0</td>\n",
       "      <td>0.0</td>\n",
       "      <td>0</td>\n",
       "    </tr>\n",
       "    <tr>\n",
       "      <th>1</th>\n",
       "      <td>5</td>\n",
       "      <td>Harley-Davidson</td>\n",
       "      <td>X440</td>\n",
       "      <td>2453</td>\n",
       "      <td>NaN</td>\n",
       "      <td>NaN</td>\n",
       "      <td>NaN</td>\n",
       "      <td>This is my first Harley Davidson bike. I have ...</td>\n",
       "      <td>This is my first Harley Davidson bike. I have ...</td>\n",
       "      <td>This is my first Harley Davidson bike. I have ...</td>\n",
       "      <td>...</td>\n",
       "      <td>2 weeks ago</td>\n",
       "      <td>True</td>\n",
       "      <td>3</td>\n",
       "      <td>https://www.bikewale.com/harleydavidson-bikes/...</td>\n",
       "      <td>Tell us more about your experience</td>\n",
       "      <td>Write a detailed review and help fellow riders...</td>\n",
       "      <td>0</td>\n",
       "      <td>0</td>\n",
       "      <td>0.0</td>\n",
       "      <td>32</td>\n",
       "    </tr>\n",
       "    <tr>\n",
       "      <th>2</th>\n",
       "      <td>5</td>\n",
       "      <td>Harley-Davidson</td>\n",
       "      <td>X440</td>\n",
       "      <td>2453</td>\n",
       "      <td>NaN</td>\n",
       "      <td>NaN</td>\n",
       "      <td>NaN</td>\n",
       "      <td>Buying experience was good as it was from the ...</td>\n",
       "      <td>Buying experience was good as it was from the ...</td>\n",
       "      <td>Buying experience was good as it was from the ...</td>\n",
       "      <td>...</td>\n",
       "      <td>2 weeks ago</td>\n",
       "      <td>True</td>\n",
       "      <td>3</td>\n",
       "      <td>https://www.bikewale.com/harleydavidson-bikes/...</td>\n",
       "      <td>Tell us more about your experience</td>\n",
       "      <td>Write a detailed review and help fellow riders...</td>\n",
       "      <td>0</td>\n",
       "      <td>0</td>\n",
       "      <td>0.0</td>\n",
       "      <td>26</td>\n",
       "    </tr>\n",
       "    <tr>\n",
       "      <th>3</th>\n",
       "      <td>5</td>\n",
       "      <td>Harley-Davidson</td>\n",
       "      <td>X440</td>\n",
       "      <td>2453</td>\n",
       "      <td>NaN</td>\n",
       "      <td>NaN</td>\n",
       "      <td>NaN</td>\n",
       "      <td>Harley-Davidson X440 is a powerful motorcycle ...</td>\n",
       "      <td>Harley-Davidson X440 is a powerful motorcycle ...</td>\n",
       "      <td>Harley-Davidson X440 is a powerful motorcycle ...</td>\n",
       "      <td>...</td>\n",
       "      <td>4 weeks ago</td>\n",
       "      <td>True</td>\n",
       "      <td>2</td>\n",
       "      <td>https://www.bikewale.com/harleydavidson-bikes/...</td>\n",
       "      <td>Tell us more about your experience</td>\n",
       "      <td>Write a detailed review and help fellow riders...</td>\n",
       "      <td>0</td>\n",
       "      <td>0</td>\n",
       "      <td>0.0</td>\n",
       "      <td>35</td>\n",
       "    </tr>\n",
       "    <tr>\n",
       "      <th>4</th>\n",
       "      <td>5</td>\n",
       "      <td>Harley-Davidson</td>\n",
       "      <td>X440</td>\n",
       "      <td>2453</td>\n",
       "      <td>NaN</td>\n",
       "      <td>NaN</td>\n",
       "      <td>NaN</td>\n",
       "      <td>Very convenient experience, staff were very he...</td>\n",
       "      <td>Very convenient experience, staff were very he...</td>\n",
       "      <td>Very convenient experience, staff were very he...</td>\n",
       "      <td>...</td>\n",
       "      <td>4 weeks ago</td>\n",
       "      <td>True</td>\n",
       "      <td>3</td>\n",
       "      <td>https://www.bikewale.com/harleydavidson-bikes/...</td>\n",
       "      <td>Tell us more about your experience</td>\n",
       "      <td>Write a detailed review and help fellow riders...</td>\n",
       "      <td>0</td>\n",
       "      <td>0</td>\n",
       "      <td>0.0</td>\n",
       "      <td>35</td>\n",
       "    </tr>\n",
       "  </tbody>\n",
       "</table>\n",
       "<p>5 rows × 38 columns</p>\n",
       "</div>"
      ],
      "text/plain": [
       "   STARS             MAKE MODEL  MODELID  ORIGINALIMGPATH  ORIGINALIMAGEPATH  \\\n",
       "0      5  Harley-Davidson  X440     2453              NaN                NaN   \n",
       "1      5  Harley-Davidson  X440     2453              NaN                NaN   \n",
       "2      5  Harley-Davidson  X440     2453              NaN                NaN   \n",
       "3      5  Harley-Davidson  X440     2453              NaN                NaN   \n",
       "4      5  Harley-Davidson  X440     2453              NaN                NaN   \n",
       "\n",
       "   HOSTURL                                        DESCRIPTION  \\\n",
       "0      NaN  The buying experience of the Harley Davidson x...   \n",
       "1      NaN  This is my first Harley Davidson bike. I have ...   \n",
       "2      NaN  Buying experience was good as it was from the ...   \n",
       "3      NaN  Harley-Davidson X440 is a powerful motorcycle ...   \n",
       "4      NaN  Very convenient experience, staff were very he...   \n",
       "\n",
       "                                SANITIZEDDESCRIPTION  \\\n",
       "0  The buying experience of the Harley Davidson x...   \n",
       "1  This is my first Harley Davidson bike. I have ...   \n",
       "2  Buying experience was good as it was from the ...   \n",
       "3  Harley-Davidson X440 is a powerful motorcycle ...   \n",
       "4  Very convenient experience, staff were very he...   \n",
       "\n",
       "                                    SHORTDESCRIPTION  ...     REVIEWAGE  \\\n",
       "0  The buying experience of the Harley Davidson x...  ...  4 months ago   \n",
       "1  This is my first Harley Davidson bike. I have ...  ...   2 weeks ago   \n",
       "2  Buying experience was good as it was from the ...  ...   2 weeks ago   \n",
       "3  Harley-Davidson X440 is a powerful motorcycle ...  ...   4 weeks ago   \n",
       "4  Very convenient experience, staff were very he...  ...   4 weeks ago   \n",
       "\n",
       "  ISRATINGQUESTION  RATINGQUESTIONSCOUNT  \\\n",
       "0             True                     3   \n",
       "1             True                     3   \n",
       "2             True                     3   \n",
       "3             True                     2   \n",
       "4             True                     3   \n",
       "\n",
       "                                           REVIEWURL  \\\n",
       "0  https://www.bikewale.com/harleydavidson-bikes/...   \n",
       "1  https://www.bikewale.com/harleydavidson-bikes/...   \n",
       "2  https://www.bikewale.com/harleydavidson-bikes/...   \n",
       "3  https://www.bikewale.com/harleydavidson-bikes/...   \n",
       "4  https://www.bikewale.com/harleydavidson-bikes/...   \n",
       "\n",
       "                        THANKSHEADING  \\\n",
       "0  Tell us more about your experience   \n",
       "1  Tell us more about your experience   \n",
       "2  Tell us more about your experience   \n",
       "3  Tell us more about your experience   \n",
       "4  Tell us more about your experience   \n",
       "\n",
       "                                          THANKSTEXT  TOTALRATINGS  \\\n",
       "0  Write a detailed review and help fellow riders...             0   \n",
       "1  Write a detailed review and help fellow riders...             0   \n",
       "2  Write a detailed review and help fellow riders...             0   \n",
       "3  Write a detailed review and help fellow riders...             0   \n",
       "4  Write a detailed review and help fellow riders...             0   \n",
       "\n",
       "   TOTALREVIEWS  OVERALLMODELRATING  REPORTEDMILEAGE  \n",
       "0             0                 0.0                0  \n",
       "1             0                 0.0               32  \n",
       "2             0                 0.0               26  \n",
       "3             0                 0.0               35  \n",
       "4             0                 0.0               35  \n",
       "\n",
       "[5 rows x 38 columns]"
      ]
     },
     "execution_count": 7,
     "metadata": {},
     "output_type": "execute_result"
    }
   ],
   "source": [
    "data.head()"
   ]
  },
  {
   "cell_type": "code",
   "execution_count": 8,
   "metadata": {},
   "outputs": [],
   "source": [
    "data['cleaned_description']=data['DESCRIPTION'].apply(lambda x:remove_html_tags(x))"
   ]
  },
  {
   "cell_type": "code",
   "execution_count": 9,
   "metadata": {},
   "outputs": [],
   "source": [
    "text=\"\\n\".join(data['cleaned_description'])\n"
   ]
  },
  {
   "cell_type": "code",
   "execution_count": 10,
   "metadata": {},
   "outputs": [
    {
     "name": "stdout",
     "output_type": "stream",
     "text": [
      "The buying experience of the Harley Davidson x440 is a seamless and professional process. From exploring its website to visiting a dealership, the brand ensures that customers are well-informed about the product's features, specifications, and pricing. The sales representatives are knowledgeable and attentive, answering all queries promptly and guiding buyers in selecting the most suitable model. Once purchased, the riding experience on the Harley Davidson x440 is unparalleled. With its powerful engine and superior handling, it effortlessly maneuvers through various terrains with precision and stability. Its sleek design exudes sophistication while maintaining its iconic Harley Davidson identity. The attention to detail in every aspect of this motorcycle is evident from its exceptional build quality to its comfortable seating position. When it comes to performance, the x440 delivers without compromise; whether cruising on highways or tackling challenging corners, it offers unmatched power and responsiveness. In conclusion, owning a Harley Davidson x440 truly embodies the spirit of biking excellence coupled with an exceptional buying experience.\n",
      "This is my first Harley Davidson bike. I have been waiting for the last 2 years for a budget-friendly and luxury-looking cruiser bike. This fits my expectations very well. Service should be done after 10000 km or every one year. Always take a service from the agency for the betterment of the bike. Overall performance is awesome.\n",
      "Buying experience was good as it was from the Harley showroom, in Hyderabad. I booked for the top end but as it was taking more time to get delivery took the vivid model, which is the value-for-money model. \n",
      "The riding experience is superb, it's already been 1 month and 500km I am using it but still searching for opportunities to ride my bike again and again. The power and torque are just wow. I ride mostly in the Hyderabad city traffic but my experience is very good. Easy to handle even in traffic. And that quick maneuver when the signal opens is superb.\n",
      "The looks and build quality is very good. One thing is the wire/cable management would have been better. The front riding handle cable as well as the cable that went to the rear wheel brake mechanism could have been better quality. The mirror is not sufficient for the rearview. \n",
      "Handling is very good and the break performance is very good.\n",
      "Not yet done the first service.\n",
      "Compared to RE, which will cost you 3L onroad, it gives the same 15year engine with cosmetic changes with different color options we can go for X440 with some 50K additional for the improved and powerful engine 440cc, 27bhp with 38NM torque. All LED light setup with beautiful looks and signature DRL and projector lamp.\n",
      "Harley-Davidson X440 is a powerful motorcycle with a comfortable seating position and a refined, ergonomic design. Performance The X440 is powerful and responsive. Handling The X440 is easy to handle and stable at high speed. The X440 has an assist and slipper clutch. There are a few things for make the x440 the best bike.\n",
      "Very convenient experience, staff were very helpful. Great and  Comfortable, torque and power are very, recommended as compared to torque and handling. Slim decent look, charming personality, and performance are also very impressive with their looks. Compatible friendly services at the service station, maintaining is cheaper as you get used to it. It gives a very good personality, speed, power, and handling is awesome, compatible mileage. I think it is a kind of lightweight as a brand company it should be much bulkier.\n",
      "It's a very good bike for riding. It's also good for a long journey. When it comes to performance, the x440 delivers without compromise; whether cruising on highways or tackling challenging corners, it offers unmatched power and responsiveness. In conclusion, owning a Harley Davidson x440 truly embodies the spirit of biking excellence coupled with an exceptional buying experience.\n",
      "I bought the Harley Davidson X440 S variant. I got this delivered on 26th October. And have driven in Bangalore traffic conditions as well as taken it out.\n",
      "Buying Experience:\n",
      "The buying experience was good and the Harley staff behaviour was very nice.\n",
      "Riding Experience :\n",
      "This is the most unexpected part. I have driven a splendour before this for 6 years and was afraid that in traffic, I would have to struggle. But I was blown away by the handling of this motorcycle. Once u have switched it on, you don't feel the weight. The motorcycle was able to easily come out of traffic.\n",
      "The response of the bike is amazing, and as soon as you pull the accelerator, you feel the power. And for one long trip I did, this bike feels amazing on the 5th and 6th gear. A relaxed effortless cruising experience. \n",
      "Pros :\n",
      "1. Great Handing\n",
      "2. Smooth Cruising Experience\n",
      "3. Great throttle response\n",
      "4. Eye-catching, absolutely stunning-looking bike\n",
      "5. Road Presence \n",
      "6. Great suspension\n",
      "Dream bike for me, have no other experience with this bike but its look and performance look quite awesome with modern technology.\n",
      "It weighs less than the Royal Enfield classic and its performance is better than RE.\n",
      "The sound is lovable as heard in the video review just eagerly waiting for that day when I own this real road king.\n",
      "Looks awesome like a typical HarleySound feels great and the seating position looks promising. I am going for this bike. It's definitely the best among the rivals in all aspects. \n",
      "Though the engine is made by Hero, I don't see any hero are much more durable and less maintained. \n",
      "What else do we need.. its a perfect motorcycle to go for all age groups.\n",
      "The pricing of the base variant is good. But lack in features like navigation,gear indicators,traction control,only air cooling system.  But the ergonomics seems good . The ride will be comfortable. Harley provides lcd display but no navigation no connectivity features etc. But harley didn't overpriced it. I think it's a value for money. At least it is a Harley Davidson . In the books they claim that this bike gets 35 km mileage,that is a decent mileage\n",
      "Firstly the bike was excellent good milage the engine capacity was soo good in this budget soo good experience in riding this bike good performance excellent milage use tube less tyres for vloggers and riders for tours after the service bike was so fresh like a showroom bike it was soo good bike I have ever seen\n",
      "Amazing bike from harley and hero collaboration.With both front and rear disc brakes, Harley-Davidson X440 comes up with anti-locking braking system. This X440 bike weighs 190.5 kg and has a fuel tank capacity of 13.5 liters.2.29 Lakh and goes upto Rs. 2.69 Lakh. Harley Davidson X440 is offered in 3 variants - Denim, Vivid and the top variant X440 S which comes at a price tag of Rs. 2.69 Lakh.\n",
      "Great experience i recently purchased this bike and my riding experience is very out standing wow wow wow harley davidson it's sports bike ilove this bike looks premium and sharap performance is okay not a great but one thing is milega is very low and service and maintenance charges is higher than other normal bikes but it's not major things for sports bike lovers and iam fully satisfied with this bike and recommend this bike for purchase all people from india great experience harley davidson top speed is 130❤️❤️🥰🥰\n",
      "Waited for 3 month to get this product launch and now even after launch delivery dates are of october.\n",
      "This is really bad marketing. Why to launch a bike in so much advance when it's not available to deliver and also there is no bike available for display or test ride. Who wants to book a bike worth 3 lakh without sitting on it taking a nearby look.\n",
      "Finally i bought honda h'ness cb350 and happy with my purchase .\n",
      "Fully comfortable to ride for 400-500 Km and the bike mileage is normal the bike Bike is very good and the price is satisfactory. I really loved this Harley Davidson x440.  its competitors especially better than Royal Enfield Classic 350, Triumph Speed 400, Royal Enfield Hunter 350, etc. I will definitely buy this bike for sure.\n",
      "Harley is a dream for all indians and in this price range wah from all indians, this bike will be one of the best segments in the indian bikes category, look and rate are almost unique. At the outset, i have to admit that i admire harley-davidson for their new approach to motorcycles. For a manufacturer that’s steeped in history with big, air-cooled v-twin powered bikes dominating their portfolio, and to some extent their identity, the new line of harley-davidson motorcycles represent their efforts of moving with the times.\n",
      "I don't buy this bike.... But I will but it definitely if my budget is upto 2.5 lakh. It is best among all of its competitors especially better then Royal Enfield\n",
      "Harley-davidson has a better brand value then Royal Enfield it's like to buy a I phone instead of samsung. One day I will definitely buy this bike for sure\n",
      "This bike is very first bike introduced by Harley Davidson in India. I hope this bike will not disappoint us. Another reason to love this bike is that this bike is gonna be super cool and the looks of this bike is very awesome 👍  at last I just want to say that I really loved this Harley davidson x440\n",
      "Bike is very good and the price is satisfactory the bike mileage is normal the bike suspension is gorgeous I love this bike's sound you will buy this bike the tyre and suspension is good  and the bike engine  is very powerful engine the gears 5 gears it's very good bike in this price\n",
      "Great to bring this model to my country. people will accept this motor cycle. Really it will going to grab the India roads .bike looks good.hero and harley David son both companies will hit the market by giving this motor cycle and it's dream to buy this motor cycle for best price and I'm going to buy this as soon as possible and it's my dream\n",
      "Pros:\n",
      "Riding experience was awesome. The comfort is great. The exhaust note is just WOW! This bike is a blend of modern as well as retro. Amazing features like auto glow headlamps and Harley badging on the headlamp. \n",
      "Cons:\n",
      "The gap between the fuel tank and the headlamp area seems a bit empty from the side profile. \n",
      "Suspensions could have been much better for bumpy rides.\n",
      "The buying experience was fantastic. I got this on the first day of x440 delivery that too first bike owned by SR Nagar Bhanu Automobiles. There were regional managers present from Harley-Davidson, it was a great feeling.\n",
      "The bike was amazing in its looks the sound was mind-blowing and the pickup was beyond my expectations.\n"
     ]
    }
   ],
   "source": [
    "print(text)"
   ]
  },
  {
   "cell_type": "code",
   "execution_count": 14,
   "metadata": {},
   "outputs": [
    {
     "data": {
      "text/plain": [
       "\"The buying experience of the Harley Davidson x440 is a seamless and professional process. From exploring its website to visiting a dealership, the brand ensures that customers are well-informed about the product's features, specifications, and pricing. The sales representatives are knowledgeable and attentive, answering all queries promptly and guiding buyers in selecting the most suitable model. Once purchased, the riding experience on the Harley Davidson x440 is unparalleled. With its powerful engine and superior handling, it effortlessly maneuvers through various terrains with precision and stability. Its sleek design exudes sophistication while maintaining its iconic Harley Davidson identity. The attention to detail in every aspect of this motorcycle is evident from its exceptional build quality to its comfortable seating position. When it comes to performance, the x440 delivers without compromise; whether cruising on highways or tackling challenging corners, it offers unmatched power and responsiveness. In conclusion, owning a Harley Davidson x440 truly embodies the spirit of biking excellence coupled with an exceptional buying experience.\\nThis is my first Harley Davidson bike. I have been waiting for the last 2 years for a budget-friendly and luxury-looking cruiser bike. This fits my expectations very well. Service should be done after 10000 km or every one year. Always take a service from the agency for the betterment of the bike. Overall performance is awesome.\\nBuying experience was good as it was from the Harley showroom, in Hyderabad. I booked for the top end but as it was taking more time to get delivery took the vivid model, which is the value-for-money model. \\nThe riding experience is superb, it's already been 1 month and 500km I am using it but still searching for opportunities to ride my bike again and again. The power and torque are just wow. I ride mostly in the Hyderabad city traffic but my experience is very good. Easy to handle even in traffic. And that quick maneuver when the signal opens is superb.\\nThe looks and build quality is very good. One thing is the wire/cable management would have been better. The front riding handle cable as well as the cable that went to the rear wheel brake mechanism could have been better quality. The mirror is not sufficient for the rearview. \\nHandling is very good and the break performance is very good.\\nNot yet done the first service.\\nCompared to RE, which will cost you 3L onroad, it gives the same 15year engine with cosmetic changes with different color options we can go for X440 with some 50K additional for the improved and powerful engine 440cc, 27bhp with 38NM torque. All LED light setup with beautiful looks and signature DRL and projector lamp.\\nHarley-Davidson X440 is a powerful motorcycle with a comfortable seating position and a refined, ergonomic design. Performance The X440 is powerful and responsive. Handling The X440 is easy to handle and stable at high speed. The X440 has an assist and slipper clutch. There are a few things for make the x440 the best bike.\\nVery convenient experience, staff were very helpful. Great and  Comfortable, torque and power are very, recommended as compared to torque and handling. Slim decent look, charming personality, and performance are also very impressive with their looks. Compatible friendly services at the service station, maintaining is cheaper as you get used to it. It gives a very good personality, speed, power, and handling is awesome, compatible mileage. I think it is a kind of lightweight as a brand company it should be much bulkier.\\nIt's a very good bike for riding. It's also good for a long journey. When it comes to performance, the x440 delivers without compromise; whether cruising on highways or tackling challenging corners, it offers unmatched power and responsiveness. In conclusion, owning a Harley Davidson x440 truly embodies the spirit of biking excellence coupled with an exceptional buying experience.\\nI bought the Harley Davidson X440 S variant. I got this delivered on 26th October. And have driven in Bangalore traffic conditions as well as taken it out.\\nBuying Experience:\\nThe buying experience was good and the Harley staff behaviour was very nice.\\nRiding Experience :\\nThis is the most unexpected part. I have driven a splendour before this for 6 years and was afraid that in traffic, I would have to struggle. But I was blown away by the handling of this motorcycle. Once u have switched it on, you don't feel the weight. The motorcycle was able to easily come out of traffic.\\nThe response of the bike is amazing, and as soon as you pull the accelerator, you feel the power. And for one long trip I did, this bike feels amazing on the 5th and 6th gear. A relaxed effortless cruising experience. \\nPros :\\n1. Great Handing\\n2. Smooth Cruising Experience\\n3. Great throttle response\\n4. Eye-catching, absolutely stunning-looking bike\\n5. Road Presence \\n6. Great suspension\\nDream bike for me, have no other experience with this bike but its look and performance look quite awesome with modern technology.\\nIt weighs less than the Royal Enfield classic and its performance is better than RE.\\nThe sound is lovable as heard in the video review just eagerly waiting for that day when I own this real road king.\\nLooks awesome like a typical HarleySound feels great and the seating position looks promising. I am going for this bike. It's definitely the best among the rivals in all aspects. \\nThough the engine is made by Hero, I don't see any hero are much more durable and less maintained. \\nWhat else do we need.. its a perfect motorcycle to go for all age groups.\\nThe pricing of the base variant is good. But lack in features like navigation,gear indicators,traction control,only air cooling system.  But the ergonomics seems good . The ride will be comfortable. Harley provides lcd display but no navigation no connectivity features etc. But harley didn't overpriced it. I think it's a value for money. At least it is a Harley Davidson . In the books they claim that this bike gets 35 km mileage,that is a decent mileage\\nFirstly the bike was excellent good milage the engine capacity was soo good in this budget soo good experience in riding this bike good performance excellent milage use tube less tyres for vloggers and riders for tours after the service bike was so fresh like a showroom bike it was soo good bike I have ever seen\\nAmazing bike from harley and hero collaboration.With both front and rear disc brakes, Harley-Davidson X440 comes up with anti-locking braking system. This X440 bike weighs 190.5 kg and has a fuel tank capacity of 13.5 liters.2.29 Lakh and goes upto Rs. 2.69 Lakh. Harley Davidson X440 is offered in 3 variants - Denim, Vivid and the top variant X440 S which comes at a price tag of Rs. 2.69 Lakh.\\nGreat experience i recently purchased this bike and my riding experience is very out standing wow wow wow harley davidson it's sports bike ilove this bike looks premium and sharap performance is okay not a great but one thing is milega is very low and service and maintenance charges is higher than other normal bikes but it's not major things for sports bike lovers and iam fully satisfied with this bike and recommend this bike for purchase all people from india great experience harley davidson top speed is 130❤️❤️🥰🥰\\nWaited for 3 month to get this product launch and now even after launch delivery dates are of october.\\nThis is really bad marketing. Why to launch a bike in so much advance when it's not available to deliver and also there is no bike available for display or test ride. Who wants to book a bike worth 3 lakh without sitting on it taking a nearby look.\\nFinally i bought honda h'ness cb350 and happy with my purchase .\\nFully comfortable to ride for 400-500 Km and the bike mileage is normal the bike Bike is very good and the price is satisfactory. I really loved this Harley Davidson x440.  its competitors especially better than Royal Enfield Classic 350, Triumph Speed 400, Royal Enfield Hunter 350, etc. I will definitely buy this bike for sure.\\nHarley is a dream for all indians and in this price range wah from all indians, this bike will be one of the best segments in the indian bikes category, look and rate are almost unique. At the outset, i have to admit that i admire harley-davidson for their new approach to motorcycles. For a manufacturer that’s steeped in history with big, air-cooled v-twin powered bikes dominating their portfolio, and to some extent their identity, the new line of harley-davidson motorcycles represent their efforts of moving with the times.\\nI don't buy this bike.... But I will but it definitely if my budget is upto 2.5 lakh. It is best among all of its competitors especially better then Royal Enfield\\nHarley-davidson has a better brand value then Royal Enfield it's like to buy a I phone instead of samsung. One day I will definitely buy this bike for sure\\nThis bike is very first bike introduced by Harley Davidson in India. I hope this bike will not disappoint us. Another reason to love this bike is that this bike is gonna be super cool and the looks of this bike is very awesome 👍  at last I just want to say that I really loved this Harley davidson x440\\nBike is very good and the price is satisfactory the bike mileage is normal the bike suspension is gorgeous I love this bike's sound you will buy this bike the tyre and suspension is good  and the bike engine  is very powerful engine the gears 5 gears it's very good bike in this price\\nGreat to bring this model to my country. people will accept this motor cycle. Really it will going to grab the India roads .bike looks good.hero and harley David son both companies will hit the market by giving this motor cycle and it's dream to buy this motor cycle for best price and I'm going to buy this as soon as possible and it's my dream\\nPros:\\nRiding experience was awesome. The comfort is great. The exhaust note is just WOW! This bike is a blend of modern as well as retro. Amazing features like auto glow headlamps and Harley badging on the headlamp. \\nCons:\\nThe gap between the fuel tank and the headlamp area seems a bit empty from the side profile. \\nSuspensions could have been much better for bumpy rides.\\nThe buying experience was fantastic. I got this on the first day of x440 delivery that too first bike owned by SR Nagar Bhanu Automobiles. There were regional managers present from Harley-Davidson, it was a great feeling.\\nThe bike was amazing in its looks the sound was mind-blowing and the pickup was beyond my expectations.\""
      ]
     },
     "execution_count": 14,
     "metadata": {},
     "output_type": "execute_result"
    }
   ],
   "source": [
    "text"
   ]
  },
  {
   "cell_type": "code",
   "execution_count": 28,
   "metadata": {},
   "outputs": [
    {
     "name": "stderr",
     "output_type": "stream",
     "text": [
      "llama_model_loader: loaded meta data with 21 key-value pairs and 291 tensors from /Users/aiswaryaramachandran/.cache/lm-studio/models/TheBloke/zephyr-7B-beta-GGUF/zephyr-7b-beta.Q8_0.gguf (version unknown)\n",
      "llama_model_loader: - tensor    0:                token_embd.weight q8_0     [  4096, 32000,     1,     1 ]\n",
      "llama_model_loader: - tensor    1:           blk.0.attn_norm.weight f32      [  4096,     1,     1,     1 ]\n",
      "llama_model_loader: - tensor    2:            blk.0.ffn_down.weight q8_0     [ 14336,  4096,     1,     1 ]\n",
      "llama_model_loader: - tensor    3:            blk.0.ffn_gate.weight q8_0     [  4096, 14336,     1,     1 ]\n",
      "llama_model_loader: - tensor    4:              blk.0.ffn_up.weight q8_0     [  4096, 14336,     1,     1 ]\n",
      "llama_model_loader: - tensor    5:            blk.0.ffn_norm.weight f32      [  4096,     1,     1,     1 ]\n",
      "llama_model_loader: - tensor    6:              blk.0.attn_k.weight q8_0     [  4096,  1024,     1,     1 ]\n",
      "llama_model_loader: - tensor    7:         blk.0.attn_output.weight q8_0     [  4096,  4096,     1,     1 ]\n",
      "llama_model_loader: - tensor    8:              blk.0.attn_q.weight q8_0     [  4096,  4096,     1,     1 ]\n",
      "llama_model_loader: - tensor    9:              blk.0.attn_v.weight q8_0     [  4096,  1024,     1,     1 ]\n",
      "llama_model_loader: - tensor   10:           blk.1.attn_norm.weight f32      [  4096,     1,     1,     1 ]\n",
      "llama_model_loader: - tensor   11:            blk.1.ffn_down.weight q8_0     [ 14336,  4096,     1,     1 ]\n",
      "llama_model_loader: - tensor   12:            blk.1.ffn_gate.weight q8_0     [  4096, 14336,     1,     1 ]\n",
      "llama_model_loader: - tensor   13:              blk.1.ffn_up.weight q8_0     [  4096, 14336,     1,     1 ]\n",
      "llama_model_loader: - tensor   14:            blk.1.ffn_norm.weight f32      [  4096,     1,     1,     1 ]\n",
      "llama_model_loader: - tensor   15:              blk.1.attn_k.weight q8_0     [  4096,  1024,     1,     1 ]\n",
      "llama_model_loader: - tensor   16:         blk.1.attn_output.weight q8_0     [  4096,  4096,     1,     1 ]\n",
      "llama_model_loader: - tensor   17:              blk.1.attn_q.weight q8_0     [  4096,  4096,     1,     1 ]\n",
      "llama_model_loader: - tensor   18:              blk.1.attn_v.weight q8_0     [  4096,  1024,     1,     1 ]\n",
      "llama_model_loader: - tensor   19:           blk.2.attn_norm.weight f32      [  4096,     1,     1,     1 ]\n",
      "llama_model_loader: - tensor   20:            blk.2.ffn_down.weight q8_0     [ 14336,  4096,     1,     1 ]\n",
      "llama_model_loader: - tensor   21:            blk.2.ffn_gate.weight q8_0     [  4096, 14336,     1,     1 ]\n",
      "llama_model_loader: - tensor   22:              blk.2.ffn_up.weight q8_0     [  4096, 14336,     1,     1 ]\n",
      "llama_model_loader: - tensor   23:            blk.2.ffn_norm.weight f32      [  4096,     1,     1,     1 ]\n",
      "llama_model_loader: - tensor   24:              blk.2.attn_k.weight q8_0     [  4096,  1024,     1,     1 ]\n",
      "llama_model_loader: - tensor   25:         blk.2.attn_output.weight q8_0     [  4096,  4096,     1,     1 ]\n",
      "llama_model_loader: - tensor   26:              blk.2.attn_q.weight q8_0     [  4096,  4096,     1,     1 ]\n",
      "llama_model_loader: - tensor   27:              blk.2.attn_v.weight q8_0     [  4096,  1024,     1,     1 ]\n",
      "llama_model_loader: - tensor   28:            blk.3.ffn_gate.weight q8_0     [  4096, 14336,     1,     1 ]\n",
      "llama_model_loader: - tensor   29:              blk.3.ffn_up.weight q8_0     [  4096, 14336,     1,     1 ]\n",
      "llama_model_loader: - tensor   30:              blk.3.attn_k.weight q8_0     [  4096,  1024,     1,     1 ]\n",
      "llama_model_loader: - tensor   31:         blk.3.attn_output.weight q8_0     [  4096,  4096,     1,     1 ]\n",
      "llama_model_loader: - tensor   32:              blk.3.attn_q.weight q8_0     [  4096,  4096,     1,     1 ]\n",
      "llama_model_loader: - tensor   33:              blk.3.attn_v.weight q8_0     [  4096,  1024,     1,     1 ]\n",
      "llama_model_loader: - tensor   34:           blk.3.attn_norm.weight f32      [  4096,     1,     1,     1 ]\n",
      "llama_model_loader: - tensor   35:            blk.3.ffn_down.weight q8_0     [ 14336,  4096,     1,     1 ]\n",
      "llama_model_loader: - tensor   36:            blk.3.ffn_norm.weight f32      [  4096,     1,     1,     1 ]\n",
      "llama_model_loader: - tensor   37:           blk.4.attn_norm.weight f32      [  4096,     1,     1,     1 ]\n",
      "llama_model_loader: - tensor   38:            blk.4.ffn_down.weight q8_0     [ 14336,  4096,     1,     1 ]\n",
      "llama_model_loader: - tensor   39:            blk.4.ffn_gate.weight q8_0     [  4096, 14336,     1,     1 ]\n",
      "llama_model_loader: - tensor   40:              blk.4.ffn_up.weight q8_0     [  4096, 14336,     1,     1 ]\n",
      "llama_model_loader: - tensor   41:            blk.4.ffn_norm.weight f32      [  4096,     1,     1,     1 ]\n",
      "llama_model_loader: - tensor   42:              blk.4.attn_k.weight q8_0     [  4096,  1024,     1,     1 ]\n",
      "llama_model_loader: - tensor   43:         blk.4.attn_output.weight q8_0     [  4096,  4096,     1,     1 ]\n",
      "llama_model_loader: - tensor   44:              blk.4.attn_q.weight q8_0     [  4096,  4096,     1,     1 ]\n",
      "llama_model_loader: - tensor   45:              blk.4.attn_v.weight q8_0     [  4096,  1024,     1,     1 ]\n",
      "llama_model_loader: - tensor   46:           blk.5.attn_norm.weight f32      [  4096,     1,     1,     1 ]\n",
      "llama_model_loader: - tensor   47:            blk.5.ffn_down.weight q8_0     [ 14336,  4096,     1,     1 ]\n",
      "llama_model_loader: - tensor   48:            blk.5.ffn_gate.weight q8_0     [  4096, 14336,     1,     1 ]\n",
      "llama_model_loader: - tensor   49:              blk.5.ffn_up.weight q8_0     [  4096, 14336,     1,     1 ]\n",
      "llama_model_loader: - tensor   50:            blk.5.ffn_norm.weight f32      [  4096,     1,     1,     1 ]\n",
      "llama_model_loader: - tensor   51:              blk.5.attn_k.weight q8_0     [  4096,  1024,     1,     1 ]\n",
      "llama_model_loader: - tensor   52:         blk.5.attn_output.weight q8_0     [  4096,  4096,     1,     1 ]\n",
      "llama_model_loader: - tensor   53:              blk.5.attn_q.weight q8_0     [  4096,  4096,     1,     1 ]\n",
      "llama_model_loader: - tensor   54:              blk.5.attn_v.weight q8_0     [  4096,  1024,     1,     1 ]\n",
      "llama_model_loader: - tensor   55:           blk.6.attn_norm.weight f32      [  4096,     1,     1,     1 ]\n",
      "llama_model_loader: - tensor   56:            blk.6.ffn_down.weight q8_0     [ 14336,  4096,     1,     1 ]\n",
      "llama_model_loader: - tensor   57:            blk.6.ffn_gate.weight q8_0     [  4096, 14336,     1,     1 ]\n",
      "llama_model_loader: - tensor   58:              blk.6.ffn_up.weight q8_0     [  4096, 14336,     1,     1 ]\n",
      "llama_model_loader: - tensor   59:            blk.6.ffn_norm.weight f32      [  4096,     1,     1,     1 ]\n",
      "llama_model_loader: - tensor   60:              blk.6.attn_k.weight q8_0     [  4096,  1024,     1,     1 ]\n",
      "llama_model_loader: - tensor   61:         blk.6.attn_output.weight q8_0     [  4096,  4096,     1,     1 ]\n",
      "llama_model_loader: - tensor   62:              blk.6.attn_q.weight q8_0     [  4096,  4096,     1,     1 ]\n",
      "llama_model_loader: - tensor   63:              blk.6.attn_v.weight q8_0     [  4096,  1024,     1,     1 ]\n",
      "llama_model_loader: - tensor   64:           blk.7.attn_norm.weight f32      [  4096,     1,     1,     1 ]\n",
      "llama_model_loader: - tensor   65:            blk.7.ffn_down.weight q8_0     [ 14336,  4096,     1,     1 ]\n",
      "llama_model_loader: - tensor   66:            blk.7.ffn_gate.weight q8_0     [  4096, 14336,     1,     1 ]\n",
      "llama_model_loader: - tensor   67:              blk.7.ffn_up.weight q8_0     [  4096, 14336,     1,     1 ]\n",
      "llama_model_loader: - tensor   68:            blk.7.ffn_norm.weight f32      [  4096,     1,     1,     1 ]\n",
      "llama_model_loader: - tensor   69:              blk.7.attn_k.weight q8_0     [  4096,  1024,     1,     1 ]\n",
      "llama_model_loader: - tensor   70:         blk.7.attn_output.weight q8_0     [  4096,  4096,     1,     1 ]\n",
      "llama_model_loader: - tensor   71:              blk.7.attn_q.weight q8_0     [  4096,  4096,     1,     1 ]\n",
      "llama_model_loader: - tensor   72:              blk.7.attn_v.weight q8_0     [  4096,  1024,     1,     1 ]\n",
      "llama_model_loader: - tensor   73:              blk.8.attn_k.weight q8_0     [  4096,  1024,     1,     1 ]\n",
      "llama_model_loader: - tensor   74:         blk.8.attn_output.weight q8_0     [  4096,  4096,     1,     1 ]\n",
      "llama_model_loader: - tensor   75:              blk.8.attn_q.weight q8_0     [  4096,  4096,     1,     1 ]\n",
      "llama_model_loader: - tensor   76:              blk.8.attn_v.weight q8_0     [  4096,  1024,     1,     1 ]\n",
      "llama_model_loader: - tensor   77:          blk.10.attn_norm.weight f32      [  4096,     1,     1,     1 ]\n",
      "llama_model_loader: - tensor   78:           blk.10.ffn_down.weight q8_0     [ 14336,  4096,     1,     1 ]\n",
      "llama_model_loader: - tensor   79:           blk.10.ffn_gate.weight q8_0     [  4096, 14336,     1,     1 ]\n",
      "llama_model_loader: - tensor   80:             blk.10.ffn_up.weight q8_0     [  4096, 14336,     1,     1 ]\n",
      "llama_model_loader: - tensor   81:           blk.10.ffn_norm.weight f32      [  4096,     1,     1,     1 ]\n",
      "llama_model_loader: - tensor   82:             blk.10.attn_k.weight q8_0     [  4096,  1024,     1,     1 ]\n",
      "llama_model_loader: - tensor   83:        blk.10.attn_output.weight q8_0     [  4096,  4096,     1,     1 ]\n",
      "llama_model_loader: - tensor   84:             blk.10.attn_q.weight q8_0     [  4096,  4096,     1,     1 ]\n",
      "llama_model_loader: - tensor   85:             blk.10.attn_v.weight q8_0     [  4096,  1024,     1,     1 ]\n",
      "llama_model_loader: - tensor   86:          blk.11.attn_norm.weight f32      [  4096,     1,     1,     1 ]\n",
      "llama_model_loader: - tensor   87:           blk.11.ffn_down.weight q8_0     [ 14336,  4096,     1,     1 ]\n",
      "llama_model_loader: - tensor   88:           blk.11.ffn_gate.weight q8_0     [  4096, 14336,     1,     1 ]\n",
      "llama_model_loader: - tensor   89:             blk.11.ffn_up.weight q8_0     [  4096, 14336,     1,     1 ]\n",
      "llama_model_loader: - tensor   90:           blk.11.ffn_norm.weight f32      [  4096,     1,     1,     1 ]\n",
      "llama_model_loader: - tensor   91:             blk.11.attn_k.weight q8_0     [  4096,  1024,     1,     1 ]\n",
      "llama_model_loader: - tensor   92:        blk.11.attn_output.weight q8_0     [  4096,  4096,     1,     1 ]\n",
      "llama_model_loader: - tensor   93:             blk.11.attn_q.weight q8_0     [  4096,  4096,     1,     1 ]\n",
      "llama_model_loader: - tensor   94:             blk.11.attn_v.weight q8_0     [  4096,  1024,     1,     1 ]\n",
      "llama_model_loader: - tensor   95:           blk.12.ffn_gate.weight q8_0     [  4096, 14336,     1,     1 ]\n",
      "llama_model_loader: - tensor   96:             blk.12.ffn_up.weight q8_0     [  4096, 14336,     1,     1 ]\n",
      "llama_model_loader: - tensor   97:             blk.12.attn_k.weight q8_0     [  4096,  1024,     1,     1 ]\n",
      "llama_model_loader: - tensor   98:        blk.12.attn_output.weight q8_0     [  4096,  4096,     1,     1 ]\n",
      "llama_model_loader: - tensor   99:             blk.12.attn_q.weight q8_0     [  4096,  4096,     1,     1 ]\n",
      "llama_model_loader: - tensor  100:             blk.12.attn_v.weight q8_0     [  4096,  1024,     1,     1 ]\n",
      "llama_model_loader: - tensor  101:           blk.8.attn_norm.weight f32      [  4096,     1,     1,     1 ]\n",
      "llama_model_loader: - tensor  102:            blk.8.ffn_down.weight q8_0     [ 14336,  4096,     1,     1 ]\n",
      "llama_model_loader: - tensor  103:            blk.8.ffn_gate.weight q8_0     [  4096, 14336,     1,     1 ]\n",
      "llama_model_loader: - tensor  104:              blk.8.ffn_up.weight q8_0     [  4096, 14336,     1,     1 ]\n",
      "llama_model_loader: - tensor  105:            blk.8.ffn_norm.weight f32      [  4096,     1,     1,     1 ]\n",
      "llama_model_loader: - tensor  106:           blk.9.attn_norm.weight f32      [  4096,     1,     1,     1 ]\n",
      "llama_model_loader: - tensor  107:            blk.9.ffn_down.weight q8_0     [ 14336,  4096,     1,     1 ]\n",
      "llama_model_loader: - tensor  108:            blk.9.ffn_gate.weight q8_0     [  4096, 14336,     1,     1 ]\n",
      "llama_model_loader: - tensor  109:              blk.9.ffn_up.weight q8_0     [  4096, 14336,     1,     1 ]\n",
      "llama_model_loader: - tensor  110:            blk.9.ffn_norm.weight f32      [  4096,     1,     1,     1 ]\n",
      "llama_model_loader: - tensor  111:              blk.9.attn_k.weight q8_0     [  4096,  1024,     1,     1 ]\n",
      "llama_model_loader: - tensor  112:         blk.9.attn_output.weight q8_0     [  4096,  4096,     1,     1 ]\n",
      "llama_model_loader: - tensor  113:              blk.9.attn_q.weight q8_0     [  4096,  4096,     1,     1 ]\n",
      "llama_model_loader: - tensor  114:              blk.9.attn_v.weight q8_0     [  4096,  1024,     1,     1 ]\n",
      "llama_model_loader: - tensor  115:          blk.12.attn_norm.weight f32      [  4096,     1,     1,     1 ]\n",
      "llama_model_loader: - tensor  116:           blk.12.ffn_down.weight q8_0     [ 14336,  4096,     1,     1 ]\n",
      "llama_model_loader: - tensor  117:           blk.12.ffn_norm.weight f32      [  4096,     1,     1,     1 ]\n",
      "llama_model_loader: - tensor  118:          blk.13.attn_norm.weight f32      [  4096,     1,     1,     1 ]\n",
      "llama_model_loader: - tensor  119:           blk.13.ffn_down.weight q8_0     [ 14336,  4096,     1,     1 ]\n",
      "llama_model_loader: - tensor  120:           blk.13.ffn_gate.weight q8_0     [  4096, 14336,     1,     1 ]\n",
      "llama_model_loader: - tensor  121:             blk.13.ffn_up.weight q8_0     [  4096, 14336,     1,     1 ]\n",
      "llama_model_loader: - tensor  122:           blk.13.ffn_norm.weight f32      [  4096,     1,     1,     1 ]\n",
      "llama_model_loader: - tensor  123:             blk.13.attn_k.weight q8_0     [  4096,  1024,     1,     1 ]\n",
      "llama_model_loader: - tensor  124:        blk.13.attn_output.weight q8_0     [  4096,  4096,     1,     1 ]\n",
      "llama_model_loader: - tensor  125:             blk.13.attn_q.weight q8_0     [  4096,  4096,     1,     1 ]\n",
      "llama_model_loader: - tensor  126:             blk.13.attn_v.weight q8_0     [  4096,  1024,     1,     1 ]\n",
      "llama_model_loader: - tensor  127:          blk.14.attn_norm.weight f32      [  4096,     1,     1,     1 ]\n",
      "llama_model_loader: - tensor  128:           blk.14.ffn_down.weight q8_0     [ 14336,  4096,     1,     1 ]\n",
      "llama_model_loader: - tensor  129:           blk.14.ffn_gate.weight q8_0     [  4096, 14336,     1,     1 ]\n",
      "llama_model_loader: - tensor  130:             blk.14.ffn_up.weight q8_0     [  4096, 14336,     1,     1 ]\n",
      "llama_model_loader: - tensor  131:           blk.14.ffn_norm.weight f32      [  4096,     1,     1,     1 ]\n",
      "llama_model_loader: - tensor  132:             blk.14.attn_k.weight q8_0     [  4096,  1024,     1,     1 ]\n",
      "llama_model_loader: - tensor  133:        blk.14.attn_output.weight q8_0     [  4096,  4096,     1,     1 ]\n",
      "llama_model_loader: - tensor  134:             blk.14.attn_q.weight q8_0     [  4096,  4096,     1,     1 ]\n",
      "llama_model_loader: - tensor  135:             blk.14.attn_v.weight q8_0     [  4096,  1024,     1,     1 ]\n",
      "llama_model_loader: - tensor  136:          blk.15.attn_norm.weight f32      [  4096,     1,     1,     1 ]\n",
      "llama_model_loader: - tensor  137:           blk.15.ffn_down.weight q8_0     [ 14336,  4096,     1,     1 ]\n",
      "llama_model_loader: - tensor  138:           blk.15.ffn_gate.weight q8_0     [  4096, 14336,     1,     1 ]\n",
      "llama_model_loader: - tensor  139:             blk.15.ffn_up.weight q8_0     [  4096, 14336,     1,     1 ]\n",
      "llama_model_loader: - tensor  140:           blk.15.ffn_norm.weight f32      [  4096,     1,     1,     1 ]\n",
      "llama_model_loader: - tensor  141:             blk.15.attn_k.weight q8_0     [  4096,  1024,     1,     1 ]\n",
      "llama_model_loader: - tensor  142:        blk.15.attn_output.weight q8_0     [  4096,  4096,     1,     1 ]\n",
      "llama_model_loader: - tensor  143:             blk.15.attn_q.weight q8_0     [  4096,  4096,     1,     1 ]\n",
      "llama_model_loader: - tensor  144:             blk.15.attn_v.weight q8_0     [  4096,  1024,     1,     1 ]\n",
      "llama_model_loader: - tensor  145:          blk.16.attn_norm.weight f32      [  4096,     1,     1,     1 ]\n",
      "llama_model_loader: - tensor  146:           blk.16.ffn_down.weight q8_0     [ 14336,  4096,     1,     1 ]\n",
      "llama_model_loader: - tensor  147:           blk.16.ffn_gate.weight q8_0     [  4096, 14336,     1,     1 ]\n",
      "llama_model_loader: - tensor  148:             blk.16.ffn_up.weight q8_0     [  4096, 14336,     1,     1 ]\n",
      "llama_model_loader: - tensor  149:           blk.16.ffn_norm.weight f32      [  4096,     1,     1,     1 ]\n",
      "llama_model_loader: - tensor  150:             blk.16.attn_k.weight q8_0     [  4096,  1024,     1,     1 ]\n",
      "llama_model_loader: - tensor  151:        blk.16.attn_output.weight q8_0     [  4096,  4096,     1,     1 ]\n",
      "llama_model_loader: - tensor  152:             blk.16.attn_q.weight q8_0     [  4096,  4096,     1,     1 ]\n",
      "llama_model_loader: - tensor  153:             blk.16.attn_v.weight q8_0     [  4096,  1024,     1,     1 ]\n",
      "llama_model_loader: - tensor  154:             blk.17.attn_k.weight q8_0     [  4096,  1024,     1,     1 ]\n",
      "llama_model_loader: - tensor  155:        blk.17.attn_output.weight q8_0     [  4096,  4096,     1,     1 ]\n",
      "llama_model_loader: - tensor  156:             blk.17.attn_q.weight q8_0     [  4096,  4096,     1,     1 ]\n",
      "llama_model_loader: - tensor  157:             blk.17.attn_v.weight q8_0     [  4096,  1024,     1,     1 ]\n",
      "llama_model_loader: - tensor  158:          blk.17.attn_norm.weight f32      [  4096,     1,     1,     1 ]\n",
      "llama_model_loader: - tensor  159:           blk.17.ffn_down.weight q8_0     [ 14336,  4096,     1,     1 ]\n",
      "llama_model_loader: - tensor  160:           blk.17.ffn_gate.weight q8_0     [  4096, 14336,     1,     1 ]\n",
      "llama_model_loader: - tensor  161:             blk.17.ffn_up.weight q8_0     [  4096, 14336,     1,     1 ]\n",
      "llama_model_loader: - tensor  162:           blk.17.ffn_norm.weight f32      [  4096,     1,     1,     1 ]\n",
      "llama_model_loader: - tensor  163:          blk.18.attn_norm.weight f32      [  4096,     1,     1,     1 ]\n",
      "llama_model_loader: - tensor  164:           blk.18.ffn_down.weight q8_0     [ 14336,  4096,     1,     1 ]\n",
      "llama_model_loader: - tensor  165:           blk.18.ffn_gate.weight q8_0     [  4096, 14336,     1,     1 ]\n",
      "llama_model_loader: - tensor  166:             blk.18.ffn_up.weight q8_0     [  4096, 14336,     1,     1 ]\n",
      "llama_model_loader: - tensor  167:           blk.18.ffn_norm.weight f32      [  4096,     1,     1,     1 ]\n",
      "llama_model_loader: - tensor  168:             blk.18.attn_k.weight q8_0     [  4096,  1024,     1,     1 ]\n",
      "llama_model_loader: - tensor  169:        blk.18.attn_output.weight q8_0     [  4096,  4096,     1,     1 ]\n",
      "llama_model_loader: - tensor  170:             blk.18.attn_q.weight q8_0     [  4096,  4096,     1,     1 ]\n",
      "llama_model_loader: - tensor  171:             blk.18.attn_v.weight q8_0     [  4096,  1024,     1,     1 ]\n",
      "llama_model_loader: - tensor  172:          blk.19.attn_norm.weight f32      [  4096,     1,     1,     1 ]\n",
      "llama_model_loader: - tensor  173:           blk.19.ffn_down.weight q8_0     [ 14336,  4096,     1,     1 ]\n",
      "llama_model_loader: - tensor  174:           blk.19.ffn_gate.weight q8_0     [  4096, 14336,     1,     1 ]\n",
      "llama_model_loader: - tensor  175:             blk.19.ffn_up.weight q8_0     [  4096, 14336,     1,     1 ]\n",
      "llama_model_loader: - tensor  176:           blk.19.ffn_norm.weight f32      [  4096,     1,     1,     1 ]\n",
      "llama_model_loader: - tensor  177:             blk.19.attn_k.weight q8_0     [  4096,  1024,     1,     1 ]\n",
      "llama_model_loader: - tensor  178:        blk.19.attn_output.weight q8_0     [  4096,  4096,     1,     1 ]\n",
      "llama_model_loader: - tensor  179:             blk.19.attn_q.weight q8_0     [  4096,  4096,     1,     1 ]\n",
      "llama_model_loader: - tensor  180:             blk.19.attn_v.weight q8_0     [  4096,  1024,     1,     1 ]\n",
      "llama_model_loader: - tensor  181:          blk.20.attn_norm.weight f32      [  4096,     1,     1,     1 ]\n",
      "llama_model_loader: - tensor  182:           blk.20.ffn_down.weight q8_0     [ 14336,  4096,     1,     1 ]\n",
      "llama_model_loader: - tensor  183:           blk.20.ffn_gate.weight q8_0     [  4096, 14336,     1,     1 ]\n",
      "llama_model_loader: - tensor  184:             blk.20.ffn_up.weight q8_0     [  4096, 14336,     1,     1 ]\n",
      "llama_model_loader: - tensor  185:           blk.20.ffn_norm.weight f32      [  4096,     1,     1,     1 ]\n",
      "llama_model_loader: - tensor  186:             blk.20.attn_k.weight q8_0     [  4096,  1024,     1,     1 ]\n",
      "llama_model_loader: - tensor  187:        blk.20.attn_output.weight q8_0     [  4096,  4096,     1,     1 ]\n",
      "llama_model_loader: - tensor  188:             blk.20.attn_q.weight q8_0     [  4096,  4096,     1,     1 ]\n",
      "llama_model_loader: - tensor  189:             blk.20.attn_v.weight q8_0     [  4096,  1024,     1,     1 ]\n",
      "llama_model_loader: - tensor  190:           blk.21.ffn_gate.weight q8_0     [  4096, 14336,     1,     1 ]\n",
      "llama_model_loader: - tensor  191:             blk.21.ffn_up.weight q8_0     [  4096, 14336,     1,     1 ]\n",
      "llama_model_loader: - tensor  192:             blk.21.attn_k.weight q8_0     [  4096,  1024,     1,     1 ]\n",
      "llama_model_loader: - tensor  193:        blk.21.attn_output.weight q8_0     [  4096,  4096,     1,     1 ]\n",
      "llama_model_loader: - tensor  194:             blk.21.attn_q.weight q8_0     [  4096,  4096,     1,     1 ]\n",
      "llama_model_loader: - tensor  195:             blk.21.attn_v.weight q8_0     [  4096,  1024,     1,     1 ]\n",
      "llama_model_loader: - tensor  196:          blk.21.attn_norm.weight f32      [  4096,     1,     1,     1 ]\n",
      "llama_model_loader: - tensor  197:           blk.21.ffn_down.weight q8_0     [ 14336,  4096,     1,     1 ]\n",
      "llama_model_loader: - tensor  198:           blk.21.ffn_norm.weight f32      [  4096,     1,     1,     1 ]\n",
      "llama_model_loader: - tensor  199:          blk.22.attn_norm.weight f32      [  4096,     1,     1,     1 ]\n",
      "llama_model_loader: - tensor  200:           blk.22.ffn_down.weight q8_0     [ 14336,  4096,     1,     1 ]\n",
      "llama_model_loader: - tensor  201:           blk.22.ffn_gate.weight q8_0     [  4096, 14336,     1,     1 ]\n",
      "llama_model_loader: - tensor  202:             blk.22.ffn_up.weight q8_0     [  4096, 14336,     1,     1 ]\n",
      "llama_model_loader: - tensor  203:           blk.22.ffn_norm.weight f32      [  4096,     1,     1,     1 ]\n",
      "llama_model_loader: - tensor  204:             blk.22.attn_k.weight q8_0     [  4096,  1024,     1,     1 ]\n",
      "llama_model_loader: - tensor  205:        blk.22.attn_output.weight q8_0     [  4096,  4096,     1,     1 ]\n",
      "llama_model_loader: - tensor  206:             blk.22.attn_q.weight q8_0     [  4096,  4096,     1,     1 ]\n",
      "llama_model_loader: - tensor  207:             blk.22.attn_v.weight q8_0     [  4096,  1024,     1,     1 ]\n",
      "llama_model_loader: - tensor  208:          blk.23.attn_norm.weight f32      [  4096,     1,     1,     1 ]\n",
      "llama_model_loader: - tensor  209:           blk.23.ffn_down.weight q8_0     [ 14336,  4096,     1,     1 ]\n",
      "llama_model_loader: - tensor  210:           blk.23.ffn_gate.weight q8_0     [  4096, 14336,     1,     1 ]\n",
      "llama_model_loader: - tensor  211:             blk.23.ffn_up.weight q8_0     [  4096, 14336,     1,     1 ]\n",
      "llama_model_loader: - tensor  212:           blk.23.ffn_norm.weight f32      [  4096,     1,     1,     1 ]\n",
      "llama_model_loader: - tensor  213:             blk.23.attn_k.weight q8_0     [  4096,  1024,     1,     1 ]\n",
      "llama_model_loader: - tensor  214:        blk.23.attn_output.weight q8_0     [  4096,  4096,     1,     1 ]\n",
      "llama_model_loader: - tensor  215:             blk.23.attn_q.weight q8_0     [  4096,  4096,     1,     1 ]\n",
      "llama_model_loader: - tensor  216:             blk.23.attn_v.weight q8_0     [  4096,  1024,     1,     1 ]\n",
      "llama_model_loader: - tensor  217:          blk.24.attn_norm.weight f32      [  4096,     1,     1,     1 ]\n",
      "llama_model_loader: - tensor  218:           blk.24.ffn_down.weight q8_0     [ 14336,  4096,     1,     1 ]\n",
      "llama_model_loader: - tensor  219:           blk.24.ffn_gate.weight q8_0     [  4096, 14336,     1,     1 ]\n",
      "llama_model_loader: - tensor  220:             blk.24.ffn_up.weight q8_0     [  4096, 14336,     1,     1 ]\n",
      "llama_model_loader: - tensor  221:           blk.24.ffn_norm.weight f32      [  4096,     1,     1,     1 ]\n",
      "llama_model_loader: - tensor  222:             blk.24.attn_k.weight q8_0     [  4096,  1024,     1,     1 ]\n",
      "llama_model_loader: - tensor  223:        blk.24.attn_output.weight q8_0     [  4096,  4096,     1,     1 ]\n",
      "llama_model_loader: - tensor  224:             blk.24.attn_q.weight q8_0     [  4096,  4096,     1,     1 ]\n",
      "llama_model_loader: - tensor  225:             blk.24.attn_v.weight q8_0     [  4096,  1024,     1,     1 ]\n",
      "llama_model_loader: - tensor  226:          blk.25.attn_norm.weight f32      [  4096,     1,     1,     1 ]\n",
      "llama_model_loader: - tensor  227:           blk.25.ffn_down.weight q8_0     [ 14336,  4096,     1,     1 ]\n",
      "llama_model_loader: - tensor  228:           blk.25.ffn_gate.weight q8_0     [  4096, 14336,     1,     1 ]\n",
      "llama_model_loader: - tensor  229:             blk.25.ffn_up.weight q8_0     [  4096, 14336,     1,     1 ]\n",
      "llama_model_loader: - tensor  230:           blk.25.ffn_norm.weight f32      [  4096,     1,     1,     1 ]\n",
      "llama_model_loader: - tensor  231:             blk.25.attn_k.weight q8_0     [  4096,  1024,     1,     1 ]\n",
      "llama_model_loader: - tensor  232:        blk.25.attn_output.weight q8_0     [  4096,  4096,     1,     1 ]\n",
      "llama_model_loader: - tensor  233:             blk.25.attn_q.weight q8_0     [  4096,  4096,     1,     1 ]\n",
      "llama_model_loader: - tensor  234:             blk.25.attn_v.weight q8_0     [  4096,  1024,     1,     1 ]\n",
      "llama_model_loader: - tensor  235:             blk.26.attn_k.weight q8_0     [  4096,  1024,     1,     1 ]\n",
      "llama_model_loader: - tensor  236:        blk.26.attn_output.weight q8_0     [  4096,  4096,     1,     1 ]\n",
      "llama_model_loader: - tensor  237:             blk.26.attn_q.weight q8_0     [  4096,  4096,     1,     1 ]\n",
      "llama_model_loader: - tensor  238:             blk.26.attn_v.weight q8_0     [  4096,  1024,     1,     1 ]\n",
      "llama_model_loader: - tensor  239:          blk.26.attn_norm.weight f32      [  4096,     1,     1,     1 ]\n",
      "llama_model_loader: - tensor  240:           blk.26.ffn_down.weight q8_0     [ 14336,  4096,     1,     1 ]\n",
      "llama_model_loader: - tensor  241:           blk.26.ffn_gate.weight q8_0     [  4096, 14336,     1,     1 ]\n",
      "llama_model_loader: - tensor  242:             blk.26.ffn_up.weight q8_0     [  4096, 14336,     1,     1 ]\n",
      "llama_model_loader: - tensor  243:           blk.26.ffn_norm.weight f32      [  4096,     1,     1,     1 ]\n",
      "llama_model_loader: - tensor  244:          blk.27.attn_norm.weight f32      [  4096,     1,     1,     1 ]\n",
      "llama_model_loader: - tensor  245:           blk.27.ffn_down.weight q8_0     [ 14336,  4096,     1,     1 ]\n",
      "llama_model_loader: - tensor  246:           blk.27.ffn_gate.weight q8_0     [  4096, 14336,     1,     1 ]\n",
      "llama_model_loader: - tensor  247:             blk.27.ffn_up.weight q8_0     [  4096, 14336,     1,     1 ]\n",
      "llama_model_loader: - tensor  248:           blk.27.ffn_norm.weight f32      [  4096,     1,     1,     1 ]\n",
      "llama_model_loader: - tensor  249:             blk.27.attn_k.weight q8_0     [  4096,  1024,     1,     1 ]\n",
      "llama_model_loader: - tensor  250:        blk.27.attn_output.weight q8_0     [  4096,  4096,     1,     1 ]\n",
      "llama_model_loader: - tensor  251:             blk.27.attn_q.weight q8_0     [  4096,  4096,     1,     1 ]\n",
      "llama_model_loader: - tensor  252:             blk.27.attn_v.weight q8_0     [  4096,  1024,     1,     1 ]\n",
      "llama_model_loader: - tensor  253:          blk.28.attn_norm.weight f32      [  4096,     1,     1,     1 ]\n",
      "llama_model_loader: - tensor  254:           blk.28.ffn_down.weight q8_0     [ 14336,  4096,     1,     1 ]\n",
      "llama_model_loader: - tensor  255:           blk.28.ffn_gate.weight q8_0     [  4096, 14336,     1,     1 ]\n",
      "llama_model_loader: - tensor  256:             blk.28.ffn_up.weight q8_0     [  4096, 14336,     1,     1 ]\n",
      "llama_model_loader: - tensor  257:           blk.28.ffn_norm.weight f32      [  4096,     1,     1,     1 ]\n",
      "llama_model_loader: - tensor  258:             blk.28.attn_k.weight q8_0     [  4096,  1024,     1,     1 ]\n",
      "llama_model_loader: - tensor  259:        blk.28.attn_output.weight q8_0     [  4096,  4096,     1,     1 ]\n",
      "llama_model_loader: - tensor  260:             blk.28.attn_q.weight q8_0     [  4096,  4096,     1,     1 ]\n",
      "llama_model_loader: - tensor  261:             blk.28.attn_v.weight q8_0     [  4096,  1024,     1,     1 ]\n",
      "llama_model_loader: - tensor  262:          blk.29.attn_norm.weight f32      [  4096,     1,     1,     1 ]\n",
      "llama_model_loader: - tensor  263:           blk.29.ffn_down.weight q8_0     [ 14336,  4096,     1,     1 ]\n",
      "llama_model_loader: - tensor  264:           blk.29.ffn_gate.weight q8_0     [  4096, 14336,     1,     1 ]\n",
      "llama_model_loader: - tensor  265:             blk.29.ffn_up.weight q8_0     [  4096, 14336,     1,     1 ]\n",
      "llama_model_loader: - tensor  266:           blk.29.ffn_norm.weight f32      [  4096,     1,     1,     1 ]\n",
      "llama_model_loader: - tensor  267:             blk.29.attn_k.weight q8_0     [  4096,  1024,     1,     1 ]\n",
      "llama_model_loader: - tensor  268:        blk.29.attn_output.weight q8_0     [  4096,  4096,     1,     1 ]\n",
      "llama_model_loader: - tensor  269:             blk.29.attn_q.weight q8_0     [  4096,  4096,     1,     1 ]\n",
      "llama_model_loader: - tensor  270:             blk.29.attn_v.weight q8_0     [  4096,  1024,     1,     1 ]\n",
      "llama_model_loader: - tensor  271:           blk.30.ffn_gate.weight q8_0     [  4096, 14336,     1,     1 ]\n",
      "llama_model_loader: - tensor  272:             blk.30.ffn_up.weight q8_0     [  4096, 14336,     1,     1 ]\n",
      "llama_model_loader: - tensor  273:             blk.30.attn_k.weight q8_0     [  4096,  1024,     1,     1 ]\n",
      "llama_model_loader: - tensor  274:        blk.30.attn_output.weight q8_0     [  4096,  4096,     1,     1 ]\n",
      "llama_model_loader: - tensor  275:             blk.30.attn_q.weight q8_0     [  4096,  4096,     1,     1 ]\n",
      "llama_model_loader: - tensor  276:             blk.30.attn_v.weight q8_0     [  4096,  1024,     1,     1 ]\n",
      "llama_model_loader: - tensor  277:                    output.weight q8_0     [  4096, 32000,     1,     1 ]\n",
      "llama_model_loader: - tensor  278:          blk.30.attn_norm.weight f32      [  4096,     1,     1,     1 ]\n",
      "llama_model_loader: - tensor  279:           blk.30.ffn_down.weight q8_0     [ 14336,  4096,     1,     1 ]\n",
      "llama_model_loader: - tensor  280:           blk.30.ffn_norm.weight f32      [  4096,     1,     1,     1 ]\n",
      "llama_model_loader: - tensor  281:          blk.31.attn_norm.weight f32      [  4096,     1,     1,     1 ]\n",
      "llama_model_loader: - tensor  282:           blk.31.ffn_down.weight q8_0     [ 14336,  4096,     1,     1 ]\n",
      "llama_model_loader: - tensor  283:           blk.31.ffn_gate.weight q8_0     [  4096, 14336,     1,     1 ]\n",
      "llama_model_loader: - tensor  284:             blk.31.ffn_up.weight q8_0     [  4096, 14336,     1,     1 ]\n",
      "llama_model_loader: - tensor  285:           blk.31.ffn_norm.weight f32      [  4096,     1,     1,     1 ]\n",
      "llama_model_loader: - tensor  286:             blk.31.attn_k.weight q8_0     [  4096,  1024,     1,     1 ]\n",
      "llama_model_loader: - tensor  287:        blk.31.attn_output.weight q8_0     [  4096,  4096,     1,     1 ]\n",
      "llama_model_loader: - tensor  288:             blk.31.attn_q.weight q8_0     [  4096,  4096,     1,     1 ]\n",
      "llama_model_loader: - tensor  289:             blk.31.attn_v.weight q8_0     [  4096,  1024,     1,     1 ]\n",
      "llama_model_loader: - tensor  290:               output_norm.weight f32      [  4096,     1,     1,     1 ]\n",
      "llama_model_loader: - kv   0:                       general.architecture str     \n",
      "llama_model_loader: - kv   1:                               general.name str     \n",
      "llama_model_loader: - kv   2:                       llama.context_length u32     \n",
      "llama_model_loader: - kv   3:                     llama.embedding_length u32     \n",
      "llama_model_loader: - kv   4:                          llama.block_count u32     \n",
      "llama_model_loader: - kv   5:                  llama.feed_forward_length u32     \n",
      "llama_model_loader: - kv   6:                 llama.rope.dimension_count u32     \n",
      "llama_model_loader: - kv   7:                 llama.attention.head_count u32     \n",
      "llama_model_loader: - kv   8:              llama.attention.head_count_kv u32     \n",
      "llama_model_loader: - kv   9:     llama.attention.layer_norm_rms_epsilon f32     \n",
      "llama_model_loader: - kv  10:                       llama.rope.freq_base f32     \n",
      "llama_model_loader: - kv  11:                          general.file_type u32     \n",
      "llama_model_loader: - kv  12:                       tokenizer.ggml.model str     \n",
      "llama_model_loader: - kv  13:                      tokenizer.ggml.tokens arr     \n",
      "llama_model_loader: - kv  14:                      tokenizer.ggml.scores arr     \n",
      "llama_model_loader: - kv  15:                  tokenizer.ggml.token_type arr     \n",
      "llama_model_loader: - kv  16:                tokenizer.ggml.bos_token_id u32     \n",
      "llama_model_loader: - kv  17:                tokenizer.ggml.eos_token_id u32     \n",
      "llama_model_loader: - kv  18:            tokenizer.ggml.unknown_token_id u32     \n",
      "llama_model_loader: - kv  19:            tokenizer.ggml.padding_token_id u32     \n",
      "llama_model_loader: - kv  20:               general.quantization_version u32     \n",
      "llama_model_loader: - type  f32:   65 tensors\n",
      "llama_model_loader: - type q8_0:  226 tensors\n",
      "llm_load_print_meta: format           = unknown\n",
      "llm_load_print_meta: arch             = llama\n",
      "llm_load_print_meta: vocab type       = SPM\n",
      "llm_load_print_meta: n_vocab          = 32000\n",
      "llm_load_print_meta: n_merges         = 0\n",
      "llm_load_print_meta: n_ctx_train      = 32768\n",
      "llm_load_print_meta: n_embd           = 4096\n",
      "llm_load_print_meta: n_head           = 32\n",
      "llm_load_print_meta: n_head_kv        = 8\n",
      "llm_load_print_meta: n_layer          = 32\n",
      "llm_load_print_meta: n_rot            = 128\n",
      "llm_load_print_meta: n_gqa            = 4\n",
      "llm_load_print_meta: f_norm_eps       = 0.0e+00\n",
      "llm_load_print_meta: f_norm_rms_eps   = 1.0e-05\n",
      "llm_load_print_meta: n_ff             = 14336\n",
      "llm_load_print_meta: freq_base_train  = 10000.0\n",
      "llm_load_print_meta: freq_scale_train = 1\n",
      "llm_load_print_meta: model type       = 7B\n",
      "llm_load_print_meta: model ftype      = mostly Q8_0\n",
      "llm_load_print_meta: model params     = 7.24 B\n",
      "llm_load_print_meta: model size       = 7.17 GiB (8.50 BPW) \n",
      "llm_load_print_meta: general.name   = huggingfaceh4_zephyr-7b-beta\n",
      "llm_load_print_meta: BOS token = 1 '<s>'\n",
      "llm_load_print_meta: EOS token = 2 '</s>'\n",
      "llm_load_print_meta: UNK token = 0 '<unk>'\n",
      "llm_load_print_meta: PAD token = 2 '</s>'\n",
      "llm_load_print_meta: LF token  = 13 '<0x0A>'\n",
      "llm_load_tensors: ggml ctx size =    0.09 MB\n",
      "llm_load_tensors: mem required  = 7338.73 MB\n",
      "...................................................................................................\n",
      "llama_new_context_with_model: n_ctx      = 32768\n",
      "llama_new_context_with_model: freq_base  = 10000.0\n",
      "llama_new_context_with_model: freq_scale = 1\n",
      "llama_new_context_with_model: kv self size  = 4096.00 MB\n",
      "ggml_metal_init: allocating\n",
      "ggml_metal_init: found device: Apple M1 Max\n",
      "ggml_metal_init: picking default device: Apple M1 Max\n",
      "ggml_metal_init: loading '/Users/aiswaryaramachandran/miniforge3/envs/py310-whisper/lib/python3.10/site-packages/llama_cpp/ggml-metal.metal'\n",
      "ggml_metal_init: loaded kernel_add                            0x107f884a0 | th_max = 1024 | th_width =   32\n",
      "ggml_metal_init: loaded kernel_add_row                        0x107f886d0 | th_max = 1024 | th_width =   32\n",
      "ggml_metal_init: loaded kernel_mul                            0x107f88900 | th_max = 1024 | th_width =   32\n",
      "ggml_metal_init: loaded kernel_mul_row                        0x107f88b30 | th_max = 1024 | th_width =   32\n",
      "ggml_metal_init: loaded kernel_scale                          0x107f88d60 | th_max = 1024 | th_width =   32\n",
      "ggml_metal_init: loaded kernel_silu                           0x107f88f90 | th_max = 1024 | th_width =   32\n",
      "ggml_metal_init: loaded kernel_relu                           0x107f891c0 | th_max = 1024 | th_width =   32\n",
      "ggml_metal_init: loaded kernel_gelu                           0x107f893f0 | th_max = 1024 | th_width =   32\n",
      "ggml_metal_init: loaded kernel_soft_max                       0x107f89620 | th_max = 1024 | th_width =   32\n",
      "ggml_metal_init: loaded kernel_soft_max_4                     0x107f89850 | th_max = 1024 | th_width =   32\n",
      "ggml_metal_init: loaded kernel_diag_mask_inf                  0x107f89a80 | th_max = 1024 | th_width =   32\n",
      "ggml_metal_init: loaded kernel_diag_mask_inf_8                0x107f89cb0 | th_max = 1024 | th_width =   32\n",
      "ggml_metal_init: loaded kernel_get_rows_f32                   0x107f89ee0 | th_max = 1024 | th_width =   32\n",
      "ggml_metal_init: loaded kernel_get_rows_f16                   0x107f8a110 | th_max = 1024 | th_width =   32\n",
      "ggml_metal_init: loaded kernel_get_rows_q4_0                  0x107f8a340 | th_max = 1024 | th_width =   32\n",
      "ggml_metal_init: loaded kernel_get_rows_q4_1                  0x107f8a570 | th_max = 1024 | th_width =   32\n",
      "ggml_metal_init: loaded kernel_get_rows_q8_0                  0x107f8a7a0 | th_max = 1024 | th_width =   32\n",
      "ggml_metal_init: loaded kernel_get_rows_q2_K                  0x107f8a9d0 | th_max = 1024 | th_width =   32\n",
      "ggml_metal_init: loaded kernel_get_rows_q3_K                  0x107f8ac00 | th_max = 1024 | th_width =   32\n",
      "ggml_metal_init: loaded kernel_get_rows_q4_K                  0x107f8ae30 | th_max = 1024 | th_width =   32\n",
      "ggml_metal_init: loaded kernel_get_rows_q5_K                  0x107f8b060 | th_max = 1024 | th_width =   32\n",
      "ggml_metal_init: loaded kernel_get_rows_q6_K                  0x107f8b290 | th_max = 1024 | th_width =   32\n",
      "ggml_metal_init: loaded kernel_rms_norm                       0x107f8b4c0 | th_max = 1024 | th_width =   32\n",
      "ggml_metal_init: loaded kernel_norm                           0x107f8b6f0 | th_max = 1024 | th_width =   32\n",
      "ggml_metal_init: loaded kernel_mul_mat_f32_f32                0x107f8b920 | th_max = 1024 | th_width =   32\n",
      "ggml_metal_init: loaded kernel_mul_mat_f16_f32                0x107f8bb50 | th_max = 1024 | th_width =   32\n",
      "ggml_metal_init: loaded kernel_mul_mat_f16_f32_1row           0x107f8bd80 | th_max = 1024 | th_width =   32\n",
      "ggml_metal_init: loaded kernel_mul_mat_f16_f32_l4             0x107f8bfb0 | th_max = 1024 | th_width =   32\n",
      "ggml_metal_init: loaded kernel_mul_mat_q4_0_f32               0x107f8c1e0 | th_max =  896 | th_width =   32\n",
      "ggml_metal_init: loaded kernel_mul_mat_q4_1_f32               0x107f8c410 | th_max =  896 | th_width =   32\n",
      "ggml_metal_init: loaded kernel_mul_mat_q8_0_f32               0x107f8c640 | th_max = 1024 | th_width =   32\n",
      "ggml_metal_init: loaded kernel_mul_mat_q2_K_f32               0x107f8c870 | th_max =  640 | th_width =   32\n",
      "ggml_metal_init: loaded kernel_mul_mat_q3_K_f32               0x107f8caa0 | th_max =  576 | th_width =   32\n",
      "ggml_metal_init: loaded kernel_mul_mat_q4_K_f32               0x107f8ccd0 | th_max =  576 | th_width =   32\n",
      "ggml_metal_init: loaded kernel_mul_mat_q5_K_f32               0x107f8cf00 | th_max =  576 | th_width =   32\n",
      "ggml_metal_init: loaded kernel_mul_mat_q6_K_f32               0x107f8d130 | th_max = 1024 | th_width =   32\n",
      "ggml_metal_init: loaded kernel_mul_mm_f32_f32                 0x107f8d360 | th_max =  768 | th_width =   32\n",
      "ggml_metal_init: loaded kernel_mul_mm_f16_f32                 0x107f8d590 | th_max =  768 | th_width =   32\n",
      "ggml_metal_init: loaded kernel_mul_mm_q4_0_f32                0x107f8d7c0 | th_max =  768 | th_width =   32\n",
      "ggml_metal_init: loaded kernel_mul_mm_q8_0_f32                0x107f8d9f0 | th_max =  768 | th_width =   32\n",
      "ggml_metal_init: loaded kernel_mul_mm_q4_1_f32                0x107f8dc20 | th_max =  768 | th_width =   32\n",
      "ggml_metal_init: loaded kernel_mul_mm_q2_K_f32                0x107f8de50 | th_max =  768 | th_width =   32\n",
      "ggml_metal_init: loaded kernel_mul_mm_q3_K_f32                0x107f8e080 | th_max =  768 | th_width =   32\n",
      "ggml_metal_init: loaded kernel_mul_mm_q4_K_f32                0x107f8e2b0 | th_max =  768 | th_width =   32\n",
      "ggml_metal_init: loaded kernel_mul_mm_q5_K_f32                0x107f8e4e0 | th_max =  768 | th_width =   32\n",
      "ggml_metal_init: loaded kernel_mul_mm_q6_K_f32                0x107f8e710 | th_max =  768 | th_width =   32\n",
      "ggml_metal_init: loaded kernel_rope_f32                       0x107f8e940 | th_max = 1024 | th_width =   32\n",
      "ggml_metal_init: loaded kernel_rope_f16                       0x107f8eb70 | th_max = 1024 | th_width =   32\n",
      "ggml_metal_init: loaded kernel_alibi_f32                      0x107f8eda0 | th_max = 1024 | th_width =   32\n",
      "ggml_metal_init: loaded kernel_cpy_f32_f16                    0x107f98400 | th_max = 1024 | th_width =   32\n",
      "ggml_metal_init: loaded kernel_cpy_f32_f32                    0x107f98630 | th_max = 1024 | th_width =   32\n",
      "ggml_metal_init: loaded kernel_cpy_f16_f16                    0x107f98860 | th_max = 1024 | th_width =   32\n",
      "ggml_metal_init: hasUnifiedMemory              = true\n",
      "ggml_metal_init: recommendedMaxWorkingSetSize  = 49152.00 MB\n",
      "ggml_metal_init: maxTransferRate               = built-in GPU\n",
      "llama_new_context_with_model: compute buffer total size = 2141.88 MB\n",
      "llama_new_context_with_model: max tensor size =   132.81 MB\n",
      "ggml_metal_add_buffer: allocated 'data            ' buffer, size =  7339.34 MB, (20913.33 / 49152.00)\n",
      "ggml_metal_add_buffer: allocated 'kv              ' buffer, size =  4098.00 MB, (25011.33 / 49152.00)\n",
      "ggml_metal_add_buffer: allocated 'alloc           ' buffer, size =  2136.02 MB, (27147.34 / 49152.00)\n",
      "AVX = 0 | AVX2 = 0 | AVX512 = 0 | AVX512_VBMI = 0 | AVX512_VNNI = 0 | FMA = 0 | NEON = 1 | ARM_FMA = 1 | F16C = 0 | FP16_VA = 1 | WASM_SIMD = 0 | BLAS = 1 | SSE3 = 0 | SSSE3 = 0 | VSX = 0 | \n",
      "ggml_metal_free: deallocating\n"
     ]
    }
   ],
   "source": [
    "llm = LlamaCpp(\n",
    "    # You can pass in the URL to a GGML model to download it automatically\n",
    "    #model_url=\"https://huggingface.co/TheBloke/Llama-2-13B-chat-GGML/resolve/main/llama-2-13b-chat.ggmlv3.q4_0.bin\",\n",
    "    # optionally, you can set the path to a pre-downloaded model instead of model_url\n",
    "    #model_path=\"/Users/aiswaryaramachandran/.cache/lm-studio/models/Aiswarya/LLAMA-2-7B-CHAT-GGUF/llama-2-7b-chat.gguf.q4_0.bin\",\n",
    "    model_path=\"/Users/aiswaryaramachandran/.cache/lm-studio/models/TheBloke/zephyr-7B-beta-GGUF/zephyr-7b-beta.Q8_0.gguf\",\n",
    "    n_gpu_layers=1,\n",
    "    n_batch=512,\n",
    "    temperature=0.01,\n",
    "    max_tokens=1000,\n",
    "    top_p=0.95,\n",
    "    verbose=True, # Verbose is required \n",
    "    f16_kv=True,\n",
    "    \n",
    "    n_ctx=32768,stop=[\"###\",\"Input:\"],\n",
    "    use_mlock=True,\n",
    "    repeat_penalty=1.1,\n",
    "    top_k=40\n",
    "\n",
    ")"
   ]
  },
  {
   "cell_type": "code",
   "execution_count": 33,
   "metadata": {},
   "outputs": [],
   "source": [
    "prompt=\"Answer the Question based on the text  :  \\n\"+text+\"\\n Based on the text material above, generate the response to the following quesion or instruction: What are some of the cons of the Harley Davidson X440, according to the reviews and experiences shared by users?\""
   ]
  },
  {
   "cell_type": "code",
   "execution_count": 34,
   "metadata": {},
   "outputs": [
    {
     "name": "stderr",
     "output_type": "stream",
     "text": [
      "Llama.generate: prefix-match hit\n",
      "\n",
      "llama_print_timings:        load time =  1840.12 ms\n",
      "llama_print_timings:      sample time =     0.74 ms /     1 runs   (    0.74 ms per token,  1351.35 tokens per second)\n",
      "llama_print_timings: prompt eval time = 11106.30 ms /  2630 tokens (    4.22 ms per token,   236.80 tokens per second)\n",
      "llama_print_timings:        eval time =     0.00 ms /     1 runs   (    0.00 ms per token,      inf tokens per second)\n",
      "llama_print_timings:       total time = 11117.37 ms\n"
     ]
    },
    {
     "data": {
      "text/plain": [
       "''"
      ]
     },
     "execution_count": 34,
     "metadata": {},
     "output_type": "execute_result"
    }
   ],
   "source": [
    "llm(prompt)"
   ]
  },
  {
   "cell_type": "code",
   "execution_count": 35,
   "metadata": {},
   "outputs": [
    {
     "data": {
      "text/plain": [
       "'\\n<|system|>\\nBelow is an instruction that describes a task. Write a response that appropriately completes the request.\\n\\n<|user|>\\nAnswer all the questions in this Chat, based on the text below :  \"The buying experience of the Harley Davidson x440 is a seamless and professional process. From exploring its website to visiting a dealership, the brand ensures that customers are well-informed about the product\\'s features, specifications, and pricing. The sales representatives are knowledgeable and attentive, answering all queries promptly and guiding buyers in selecting the most suitable model. Once purchased, the riding experience on the Harley Davidson x440 is unparalleled. With its powerful engine and superior handling, it effortlessly maneuvers through various terrains with precision and stability. Its sleek design exudes sophistication while maintaining its iconic Harley Davidson identity. The attention to detail in every aspect of this motorcycle is evident from its exceptional build quality to its comfortable seating position. When it comes to performance, the x440 delivers without compromise; whether cruising on highways or tackling challenging corners, it offers unmatched power and responsiveness. In conclusion, owning a Harley Davidson x440 truly embodies the spirit of biking excellence coupled with an exceptional buying experience.\\nThis is my first Harley Davidson bike. I have been waiting for the last 2 years for a budget-friendly and luxury-looking cruiser bike. This fits my expectations very well. Service should be done after 10000 km or every one year. Always take a service from the agency for the betterment of the bike. Overall performance is awesome.\\nBuying experience was good as it was from the Harley showroom, in Hyderabad. I booked for the top end but as it was taking more time to get delivery took the vivid model, which is the value-for-money model. \\nThe riding experience is superb, it\\'s already been 1 month and 500km I am using it but still searching for opportunities to ride my bike again and again. The power and torque are just wow. I ride mostly in the Hyderabad city traffic but my experience is very good. Easy to handle even in traffic. And that quick maneuver when the signal opens is superb.\\nThe looks and build quality is very good. One thing is the wire/cable management would have been better. The front riding handle cable as well as the cable that went to the rear wheel brake mechanism could have been better quality. The mirror is not sufficient for the rearview. \\nHandling is very good and the break performance is very good.\\nNot yet done the first service.\\nCompared to RE, which will cost you 3L onroad, it gives the same 15year engine with cosmetic changes with different color options we can go for X440 with some 50K additional for the improved and powerful engine 440cc, 27bhp with 38NM torque. All LED light setup with beautiful looks and signature DRL and projector lamp.\\nHarley-Davidson X440 is a powerful motorcycle with a comfortable seating position and a refined, ergonomic design. Performance The X440 is powerful and responsive. Handling The X440 is easy to handle and stable at high speed. The X440 has an assist and slipper clutch. There are a few things for make the x440 the best bike.\\nVery convenient experience, staff were very helpful. Great and  Comfortable, torque and power are very, recommended as compared to torque and handling. Slim decent look, charming personality, and performance are also very impressive with their looks. Compatible friendly services at the service station, maintaining is cheaper as you get used to it. It gives a very good personality, speed, power, and handling is awesome, compatible mileage. I think it is a kind of lightweight as a brand company it should be much bulkier.\\nIt\\'s a very good bike for riding. It\\'s also good for a long journey. When it comes to performance, the x440 delivers without compromise; whether cruising on highways or tackling challenging corners, it offers unmatched power and responsiveness. In conclusion, owning a Harley Davidson x440 truly embodies the spirit of biking excellence coupled with an exceptional buying experience.\\nI bought the Harley Davidson X440 S variant. I got this delivered on 26th October. And have driven in Bangalore traffic conditions as well as taken it out.\\nBuying Experience:\\nThe buying experience was good and the Harley staff behaviour was very nice.\\nRiding Experience :\\nThis is the most unexpected part. I have driven a splendour before this for 6 years and was afraid that in traffic, I would have to struggle. But I was blown away by the handling of this motorcycle. Once u have switched it on, you don\\'t feel the weight. The motorcycle was able to easily come out of traffic.\\nThe response of the bike is amazing, and as soon as you pull the accelerator, you feel the power. And for one long trip I did, this bike feels amazing on the 5th and 6th gear. A relaxed effortless cruising experience. \\nPros :\\n1. Great Handing\\n2. Smooth Cruising Experience\\n3. Great throttle response\\n4. Eye-catching, absolutely stunning-looking bike\\n5. Road Presence \\n6. Great suspension\\nDream bike for me, have no other experience with this bike but its look and performance look quite awesome with modern technology.\\nIt weighs less than the Royal Enfield classic and its performance is better than RE.\\nThe sound is lovable as heard in the video review just eagerly waiting for that day when I own this real road king.\\nLooks awesome like a typical HarleySound feels great and the seating position looks promising. I am going for this bike. It\\'s definitely the best among the rivals in all aspects. \\nThough the engine is made by Hero, I don\\'t see any hero are much more durable and less maintained. \\nWhat else do we need.. its a perfect motorcycle to go for all age groups.\\nThe pricing of the base variant is good. But lack in features like navigation,gear indicators,traction control,only air cooling system.  But the ergonomics seems good . The ride will be comfortable. Harley provides lcd display but no navigation no connectivity features etc. But harley didn\\'t overpriced it. I think it\\'s a value for money. At least it is a Harley Davidson . In the books they claim that this bike gets 35 km mileage,that is a decent mileage\\nFirstly the bike was excellent good milage the engine capacity was soo good in this budget soo good experience in riding this bike good performance excellent milage use tube less tyres for vloggers and riders for tours after the service bike was so fresh like a showroom bike it was soo good bike I have ever seen\\nAmazing bike from harley and hero collaboration.With both front and rear disc brakes, Harley-Davidson X440 comes up with anti-locking braking system. This X440 bike weighs 190.5 kg and has a fuel tank capacity of 13.5 liters.2.29 Lakh and goes upto Rs. 2.69 Lakh. Harley Davidson X440 is offered in 3 variants - Denim, Vivid and the top variant X440 S which comes at a price tag of Rs. 2.69 Lakh.\\nGreat experience i recently purchased this bike and my riding experience is very out standing wow wow wow harley davidson it\\'s sports bike ilove this bike looks premium and sharap performance is okay not a great but one thing is milega is very low and service and maintenance charges is higher than other normal bikes but it\\'s not major things for sports bike lovers and iam fully satisfied with this bike and recommend this bike for purchase all people from india great experience harley davidson top speed is 130❤️❤️🥰🥰\\nWaited for 3 month to get this product launch and now even after launch delivery dates are of october.\\nThis is really bad marketing. Why to launch a bike in so much advance when it\\'s not available to deliver and also there is no bike available for display or test ride. Who wants to book a bike worth 3 lakh without sitting on it taking a nearby look.\\nFinally i bought honda h\\'ness cb350 and happy with my purchase .\\nFully comfortable to ride for 400-500 Km and the bike mileage is normal the bike Bike is very good and the price is satisfactory. I really loved this Harley Davidson x440.  its competitors especially better than Royal Enfield Classic 350, Triumph Speed 400, Royal Enfield Hunter 350, etc. I will definitely buy this bike for sure.\\nHarley is a dream for all indians and in this price range wah from all indians, this bike will be one of the best segments in the indian bikes category, look and rate are almost unique. At the outset, i have to admit that i admire harley-davidson for their new approach to motorcycles. For a manufacturer that’s steeped in history with big, air-cooled v-twin powered bikes dominating their portfolio, and to some extent their identity, the new line of harley-davidson motorcycles represent their efforts of moving with the times.\\nI don\\'t buy this bike.... But I will but it definitely if my budget is upto 2.5 lakh. It is best among all of its competitors especially better then Royal Enfield\\nHarley-davidson has a better brand value then Royal Enfield it\\'s like to buy a I phone instead of samsung. One day I will definitely buy this bike for sure\\nThis bike is very first bike introduced by Harley Davidson in India. I hope this bike will not disappoint us. Another reason to love this bike is that this bike is gonna be super cool and the looks of this bike is very awesome 👍  at last I just want to say that I really loved this Harley davidson x440\\nBike is very good and the price is satisfactory the bike mileage is normal the bike suspension is gorgeous I love this bike\\'s sound you will buy this bike the tyre and suspension is good  and the bike engine  is very powerful engine the gears 5 gears it\\'s very good bike in this price\\nGreat to bring this model to my country. people will accept this motor cycle. Really it will going to grab the India roads .bike looks good.hero and harley David son both companies will hit the market by giving this motor cycle and it\\'s dream to buy this motor cycle for best price and I\\'m going to buy this as soon as possible and it\\'s my dream\\nPros:\\nRiding experience was awesome. The comfort is great. The exhaust note is just WOW! This bike is a blend of modern as well as retro. Amazing features like auto glow headlamps and Harley badging on the headlamp. \\nCons:\\nThe gap between the fuel tank and the headlamp area seems a bit empty from the side profile. \\nSuspensions could have been much better for bumpy rides.\\nThe buying experience was fantastic. I got this on the first day of x440 delivery that too first bike owned by SR Nagar Bhanu Automobiles. There were regional managers present from Harley-Davidson, it was a great feeling.\\nThe bike was amazing in its looks the sound was mind-blowing and the pickup was beyond my expectations.\"\\n<|assistant|>\\nBased on the customer testimonials and product description provided, here\\'s my response:\\n\\nOverall, customers who have purchased the Harley Davidson x440 are highly satisfied with their buying experience and riding performance. The seamless and professional process of exploring the brand\\'s website and visiting a dealership has left them well-informed about the product\\'s features, specifications, and pricing. The sales representatives at the dealership have been knowledgeable, attentive, and prompt in answering queries, guiding buyers through the selection process, and providing exceptional service.\\n\\nThe riding experience on the Harley Davidson x440 has been described as unparalleled, with a powerful engine, superior handling, and sleek design that exudes sophistication while maintaining its iconic Harley Davidson identity. The attention to detail in every aspect of this motorcycle is evident from its exceptional build quality, comfortable seating position, and outstanding performance on both highways and challenging corners.\\n\\nCustomers have noted that the Harley Davidson x440 delivers without compromise and provides a relaxed, effortless cruising experience. They appreciate the bike\\'s handling, which allows it to easily maneuver through traffic, and its smooth throttle response, exceptional suspension, and road presence. Some customers also mentioned that the Harley Davidson x440 weighs less than its competitors and has better performance.\\n\\nCustomers have praised the bike\\'s modern technology, including auto glow headlamps and Harley badging on the headlamp, as well as its blend of modern and retro features. They also highlighted the sound of the exhaust note, which they found to be absolutely WOW! Some customers mentioned that there is a gap between the fuel tank and the headlamp area, but overall, the bike\\'s comfort and style were highly praised.\\n\\nIn terms of maintenance, some customers suggested that wire/cable management could have been better, but overall, they found the riding experience and service to be exceptional. They also noted that the Harley Davidson x440 was a good value for money compared to its competitors, with comparable engine specifications and superior performance.\\n\\nIn conclusion, the buying and riding experiences of the Harley Davidson x440 have been overwhelmingly positive, with customers praising the brand\\'s professionalism, the bike\\'s exceptional performance, handling, comfort, style, and value for money. The Harley Davidson x440 truly embodies the spirit of biking excellence coupled with an exceptional buying experience.\\n<|user|>\\nWhat has been the experience related to mileage of Harley X440?\\n<|assistant|>\\nThe provided text does not offer a consistent or comprehensive insight into the experience related to mileage of the Harley Davidson x440. While some customers have mentioned their positive experiences with the bike\\'s performance and cruising experience on highways, they did not specifically discuss the mileage of the motorcycle. Therefore, it is unclear what the average or estimated mileage of the Harley Davidson x440 is. It is best to consult the official specifications or contact an authorized dealer for more information regarding the bike\\'s mileage.\\n<|user|>\\nWhat are the main cons of Harley X440?\\n<|assistant|>\\nBased on the provided responses, there seem to be very few cons mentioned about the Harley Davidson X440. Here are a few potential areas that some users have noted as less favorable:\\n\\n1. Wire/cable management could be improved: Some users have commented that the wire and cable quality for the front riding handle and rear wheel brake mechanism could be better.\\n\\n2. Mirror could be larger: A few individuals have mentioned that the mirror on the X440 could be larger to provide a better view of what\\'s behind the bike.\\n\\n3. Price may be a factor: While some users believe that the price point is justified due to the bike\\'s performance and features, others have noted that it may be too expensive for their budget.\\n\\n4. Service intervals are shorter: Harley recommends getting an X440 service every 10,000 kilometers or once a year, which some buyers find more frequent than they would prefer.\\n\\nOverall, however, the feedback from users has been overwhelmingly positive about the Harley Davidson X440\\'s performance, handling, and overall experience.\\n<|user|>\\nWhat are the key points mentioned regarding the performance of Harley X440?\\n<|assistant|>\\nBased on the provided responses, here are some key points related to the performance of the Harley Davidson X440:\\n\\n1. Powerful engine: Many users have praised the X440\\'s 443cc V-twin engine for its power and torque, describing it as \"wow\" and \"amazing.\"\\n\\n2. Responsive acceleration: The bike\\'s throttle response is noted as exceptional, with users describing it as \"great\" and \"instantaneous.\"\\n\\n3. Smooth cruising experience: The X440\\'s handling and smoothness while cruising on highways are frequently mentioned by buyers, who describe it as \"unmatched\" and \"effortless.\"\\n\\n4. Excellent for tackling corners: Several users have noted the X440\\'s ability to handle challenging corners with precision and stability.\\n\\n5. Assist and slipper clutch: The bike features an assist and slipper clutch, which makes shifting gears easier and smoother, particularly when downshifting.\\n\\nOverall, buyers seem very satisfied with the X440\\'s performance, describing it as \"exceptional,\" \"amazing,\" and \"unmatched.\"\\n<|user|>\\nWhat are the pain points mentioned regarding Suspension in Harley X440?\\n<|assistant|>\\nBased on the provided responses, there do not appear to be any specific pain points related to suspension in the Harley Davidson X440. In fact, some users have even praised the bike\\'s suspension for its great performance. One user mentioned that the suspension is \"good\" and another described it as \"great.\" No issues or concerns regarding suspension were raised by other buyers either. So, we can say that the suspension of Harley X440 seems to be satisfactory based on the user feedback provided.\\n\\n'"
      ]
     },
     "execution_count": 35,
     "metadata": {},
     "output_type": "execute_result"
    }
   ],
   "source": [
    "\n",
    "'''\n",
    "<|system|>\n",
    "Below is an instruction that describes a task. Write a response that appropriately completes the request.\n",
    "\n",
    "<|user|>\n",
    "Answer all the questions in this Chat, based on the text below :  \"The buying experience of the Harley Davidson x440 is a seamless and professional process. From exploring its website to visiting a dealership, the brand ensures that customers are well-informed about the product's features, specifications, and pricing. The sales representatives are knowledgeable and attentive, answering all queries promptly and guiding buyers in selecting the most suitable model. Once purchased, the riding experience on the Harley Davidson x440 is unparalleled. With its powerful engine and superior handling, it effortlessly maneuvers through various terrains with precision and stability. Its sleek design exudes sophistication while maintaining its iconic Harley Davidson identity. The attention to detail in every aspect of this motorcycle is evident from its exceptional build quality to its comfortable seating position. When it comes to performance, the x440 delivers without compromise; whether cruising on highways or tackling challenging corners, it offers unmatched power and responsiveness. In conclusion, owning a Harley Davidson x440 truly embodies the spirit of biking excellence coupled with an exceptional buying experience.\n",
    "This is my first Harley Davidson bike. I have been waiting for the last 2 years for a budget-friendly and luxury-looking cruiser bike. This fits my expectations very well. Service should be done after 10000 km or every one year. Always take a service from the agency for the betterment of the bike. Overall performance is awesome.\n",
    "Buying experience was good as it was from the Harley showroom, in Hyderabad. I booked for the top end but as it was taking more time to get delivery took the vivid model, which is the value-for-money model. \n",
    "The riding experience is superb, it's already been 1 month and 500km I am using it but still searching for opportunities to ride my bike again and again. The power and torque are just wow. I ride mostly in the Hyderabad city traffic but my experience is very good. Easy to handle even in traffic. And that quick maneuver when the signal opens is superb.\n",
    "The looks and build quality is very good. One thing is the wire/cable management would have been better. The front riding handle cable as well as the cable that went to the rear wheel brake mechanism could have been better quality. The mirror is not sufficient for the rearview. \n",
    "Handling is very good and the break performance is very good.\n",
    "Not yet done the first service.\n",
    "Compared to RE, which will cost you 3L onroad, it gives the same 15year engine with cosmetic changes with different color options we can go for X440 with some 50K additional for the improved and powerful engine 440cc, 27bhp with 38NM torque. All LED light setup with beautiful looks and signature DRL and projector lamp.\n",
    "Harley-Davidson X440 is a powerful motorcycle with a comfortable seating position and a refined, ergonomic design. Performance The X440 is powerful and responsive. Handling The X440 is easy to handle and stable at high speed. The X440 has an assist and slipper clutch. There are a few things for make the x440 the best bike.\n",
    "Very convenient experience, staff were very helpful. Great and  Comfortable, torque and power are very, recommended as compared to torque and handling. Slim decent look, charming personality, and performance are also very impressive with their looks. Compatible friendly services at the service station, maintaining is cheaper as you get used to it. It gives a very good personality, speed, power, and handling is awesome, compatible mileage. I think it is a kind of lightweight as a brand company it should be much bulkier.\n",
    "It's a very good bike for riding. It's also good for a long journey. When it comes to performance, the x440 delivers without compromise; whether cruising on highways or tackling challenging corners, it offers unmatched power and responsiveness. In conclusion, owning a Harley Davidson x440 truly embodies the spirit of biking excellence coupled with an exceptional buying experience.\n",
    "I bought the Harley Davidson X440 S variant. I got this delivered on 26th October. And have driven in Bangalore traffic conditions as well as taken it out.\n",
    "Buying Experience:\n",
    "The buying experience was good and the Harley staff behaviour was very nice.\n",
    "Riding Experience :\n",
    "This is the most unexpected part. I have driven a splendour before this for 6 years and was afraid that in traffic, I would have to struggle. But I was blown away by the handling of this motorcycle. Once u have switched it on, you don't feel the weight. The motorcycle was able to easily come out of traffic.\n",
    "The response of the bike is amazing, and as soon as you pull the accelerator, you feel the power. And for one long trip I did, this bike feels amazing on the 5th and 6th gear. A relaxed effortless cruising experience. \n",
    "Pros :\n",
    "1. Great Handing\n",
    "2. Smooth Cruising Experience\n",
    "3. Great throttle response\n",
    "4. Eye-catching, absolutely stunning-looking bike\n",
    "5. Road Presence \n",
    "6. Great suspension\n",
    "Dream bike for me, have no other experience with this bike but its look and performance look quite awesome with modern technology.\n",
    "It weighs less than the Royal Enfield classic and its performance is better than RE.\n",
    "The sound is lovable as heard in the video review just eagerly waiting for that day when I own this real road king.\n",
    "Looks awesome like a typical HarleySound feels great and the seating position looks promising. I am going for this bike. It's definitely the best among the rivals in all aspects. \n",
    "Though the engine is made by Hero, I don't see any hero are much more durable and less maintained. \n",
    "What else do we need.. its a perfect motorcycle to go for all age groups.\n",
    "The pricing of the base variant is good. But lack in features like navigation,gear indicators,traction control,only air cooling system.  But the ergonomics seems good . The ride will be comfortable. Harley provides lcd display but no navigation no connectivity features etc. But harley didn't overpriced it. I think it's a value for money. At least it is a Harley Davidson . In the books they claim that this bike gets 35 km mileage,that is a decent mileage\n",
    "Firstly the bike was excellent good milage the engine capacity was soo good in this budget soo good experience in riding this bike good performance excellent milage use tube less tyres for vloggers and riders for tours after the service bike was so fresh like a showroom bike it was soo good bike I have ever seen\n",
    "Amazing bike from harley and hero collaboration.With both front and rear disc brakes, Harley-Davidson X440 comes up with anti-locking braking system. This X440 bike weighs 190.5 kg and has a fuel tank capacity of 13.5 liters.2.29 Lakh and goes upto Rs. 2.69 Lakh. Harley Davidson X440 is offered in 3 variants - Denim, Vivid and the top variant X440 S which comes at a price tag of Rs. 2.69 Lakh.\n",
    "Great experience i recently purchased this bike and my riding experience is very out standing wow wow wow harley davidson it's sports bike ilove this bike looks premium and sharap performance is okay not a great but one thing is milega is very low and service and maintenance charges is higher than other normal bikes but it's not major things for sports bike lovers and iam fully satisfied with this bike and recommend this bike for purchase all people from india great experience harley davidson top speed is 130❤️❤️🥰🥰\n",
    "Waited for 3 month to get this product launch and now even after launch delivery dates are of october.\n",
    "This is really bad marketing. Why to launch a bike in so much advance when it's not available to deliver and also there is no bike available for display or test ride. Who wants to book a bike worth 3 lakh without sitting on it taking a nearby look.\n",
    "Finally i bought honda h'ness cb350 and happy with my purchase .\n",
    "Fully comfortable to ride for 400-500 Km and the bike mileage is normal the bike Bike is very good and the price is satisfactory. I really loved this Harley Davidson x440.  its competitors especially better than Royal Enfield Classic 350, Triumph Speed 400, Royal Enfield Hunter 350, etc. I will definitely buy this bike for sure.\n",
    "Harley is a dream for all indians and in this price range wah from all indians, this bike will be one of the best segments in the indian bikes category, look and rate are almost unique. At the outset, i have to admit that i admire harley-davidson for their new approach to motorcycles. For a manufacturer that’s steeped in history with big, air-cooled v-twin powered bikes dominating their portfolio, and to some extent their identity, the new line of harley-davidson motorcycles represent their efforts of moving with the times.\n",
    "I don't buy this bike.... But I will but it definitely if my budget is upto 2.5 lakh. It is best among all of its competitors especially better then Royal Enfield\n",
    "Harley-davidson has a better brand value then Royal Enfield it's like to buy a I phone instead of samsung. One day I will definitely buy this bike for sure\n",
    "This bike is very first bike introduced by Harley Davidson in India. I hope this bike will not disappoint us. Another reason to love this bike is that this bike is gonna be super cool and the looks of this bike is very awesome 👍  at last I just want to say that I really loved this Harley davidson x440\n",
    "Bike is very good and the price is satisfactory the bike mileage is normal the bike suspension is gorgeous I love this bike's sound you will buy this bike the tyre and suspension is good  and the bike engine  is very powerful engine the gears 5 gears it's very good bike in this price\n",
    "Great to bring this model to my country. people will accept this motor cycle. Really it will going to grab the India roads .bike looks good.hero and harley David son both companies will hit the market by giving this motor cycle and it's dream to buy this motor cycle for best price and I'm going to buy this as soon as possible and it's my dream\n",
    "Pros:\n",
    "Riding experience was awesome. The comfort is great. The exhaust note is just WOW! This bike is a blend of modern as well as retro. Amazing features like auto glow headlamps and Harley badging on the headlamp. \n",
    "Cons:\n",
    "The gap between the fuel tank and the headlamp area seems a bit empty from the side profile. \n",
    "Suspensions could have been much better for bumpy rides.\n",
    "The buying experience was fantastic. I got this on the first day of x440 delivery that too first bike owned by SR Nagar Bhanu Automobiles. There were regional managers present from Harley-Davidson, it was a great feeling.\n",
    "The bike was amazing in its looks the sound was mind-blowing and the pickup was beyond my expectations.\"\n",
    "<|assistant|>\n",
    "Based on the customer testimonials and product description provided, here's my response:\n",
    "\n",
    "Overall, customers who have purchased the Harley Davidson x440 are highly satisfied with their buying experience and riding performance. The seamless and professional process of exploring the brand's website and visiting a dealership has left them well-informed about the product's features, specifications, and pricing. The sales representatives at the dealership have been knowledgeable, attentive, and prompt in answering queries, guiding buyers through the selection process, and providing exceptional service.\n",
    "\n",
    "The riding experience on the Harley Davidson x440 has been described as unparalleled, with a powerful engine, superior handling, and sleek design that exudes sophistication while maintaining its iconic Harley Davidson identity. The attention to detail in every aspect of this motorcycle is evident from its exceptional build quality, comfortable seating position, and outstanding performance on both highways and challenging corners.\n",
    "\n",
    "Customers have noted that the Harley Davidson x440 delivers without compromise and provides a relaxed, effortless cruising experience. They appreciate the bike's handling, which allows it to easily maneuver through traffic, and its smooth throttle response, exceptional suspension, and road presence. Some customers also mentioned that the Harley Davidson x440 weighs less than its competitors and has better performance.\n",
    "\n",
    "Customers have praised the bike's modern technology, including auto glow headlamps and Harley badging on the headlamp, as well as its blend of modern and retro features. They also highlighted the sound of the exhaust note, which they found to be absolutely WOW! Some customers mentioned that there is a gap between the fuel tank and the headlamp area, but overall, the bike's comfort and style were highly praised.\n",
    "\n",
    "In terms of maintenance, some customers suggested that wire/cable management could have been better, but overall, they found the riding experience and service to be exceptional. They also noted that the Harley Davidson x440 was a good value for money compared to its competitors, with comparable engine specifications and superior performance.\n",
    "\n",
    "In conclusion, the buying and riding experiences of the Harley Davidson x440 have been overwhelmingly positive, with customers praising the brand's professionalism, the bike's exceptional performance, handling, comfort, style, and value for money. The Harley Davidson x440 truly embodies the spirit of biking excellence coupled with an exceptional buying experience.\n",
    "<|user|>\n",
    "What has been the experience related to mileage of Harley X440?\n",
    "<|assistant|>\n",
    "The provided text does not offer a consistent or comprehensive insight into the experience related to mileage of the Harley Davidson x440. While some customers have mentioned their positive experiences with the bike's performance and cruising experience on highways, they did not specifically discuss the mileage of the motorcycle. Therefore, it is unclear what the average or estimated mileage of the Harley Davidson x440 is. It is best to consult the official specifications or contact an authorized dealer for more information regarding the bike's mileage.\n",
    "<|user|>\n",
    "What are the main cons of Harley X440?\n",
    "<|assistant|>\n",
    "Based on the provided responses, there seem to be very few cons mentioned about the Harley Davidson X440. Here are a few potential areas that some users have noted as less favorable:\n",
    "\n",
    "1. Wire/cable management could be improved: Some users have commented that the wire and cable quality for the front riding handle and rear wheel brake mechanism could be better.\n",
    "\n",
    "2. Mirror could be larger: A few individuals have mentioned that the mirror on the X440 could be larger to provide a better view of what's behind the bike.\n",
    "\n",
    "3. Price may be a factor: While some users believe that the price point is justified due to the bike's performance and features, others have noted that it may be too expensive for their budget.\n",
    "\n",
    "4. Service intervals are shorter: Harley recommends getting an X440 service every 10,000 kilometers or once a year, which some buyers find more frequent than they would prefer.\n",
    "\n",
    "Overall, however, the feedback from users has been overwhelmingly positive about the Harley Davidson X440's performance, handling, and overall experience.\n",
    "<|user|>\n",
    "What are the key points mentioned regarding the performance of Harley X440?\n",
    "<|assistant|>\n",
    "Based on the provided responses, here are some key points related to the performance of the Harley Davidson X440:\n",
    "\n",
    "1. Powerful engine: Many users have praised the X440's 443cc V-twin engine for its power and torque, describing it as \"wow\" and \"amazing.\"\n",
    "\n",
    "2. Responsive acceleration: The bike's throttle response is noted as exceptional, with users describing it as \"great\" and \"instantaneous.\"\n",
    "\n",
    "3. Smooth cruising experience: The X440's handling and smoothness while cruising on highways are frequently mentioned by buyers, who describe it as \"unmatched\" and \"effortless.\"\n",
    "\n",
    "4. Excellent for tackling corners: Several users have noted the X440's ability to handle challenging corners with precision and stability.\n",
    "\n",
    "5. Assist and slipper clutch: The bike features an assist and slipper clutch, which makes shifting gears easier and smoother, particularly when downshifting.\n",
    "\n",
    "Overall, buyers seem very satisfied with the X440's performance, describing it as \"exceptional,\" \"amazing,\" and \"unmatched.\"\n",
    "<|user|>\n",
    "What are the pain points mentioned regarding Suspension in Harley X440?\n",
    "<|assistant|>\n",
    "Based on the provided responses, there do not appear to be any specific pain points related to suspension in the Harley Davidson X440. In fact, some users have even praised the bike's suspension for its great performance. One user mentioned that the suspension is \"good\" and another described it as \"great.\" No issues or concerns regarding suspension were raised by other buyers either. So, we can say that the suspension of Harley X440 seems to be satisfactory based on the user feedback provided.\n",
    "\n",
    "'''"
   ]
  },
  {
   "cell_type": "code",
   "execution_count": 46,
   "metadata": {},
   "outputs": [],
   "source": [
    "prompt='''<|system|>\n",
    "Below is an instruction that describes a task. Write a response that appropriately completes the request.\n",
    "\n",
    "<|user|>\n",
    "Answer all the questions in this Chat, based on the text below : '''+text+\"<|assistant|>\""
   ]
  },
  {
   "cell_type": "code",
   "execution_count": 47,
   "metadata": {},
   "outputs": [
    {
     "name": "stderr",
     "output_type": "stream",
     "text": [
      "Llama.generate: prefix-match hit\n",
      "\n",
      "llama_print_timings:        load time =  1840.12 ms\n",
      "llama_print_timings:      sample time =   113.56 ms /   155 runs   (    0.73 ms per token,  1364.98 tokens per second)\n",
      "llama_print_timings: prompt eval time = 10526.59 ms /  2596 tokens (    4.05 ms per token,   246.61 tokens per second)\n",
      "llama_print_timings:        eval time =  5952.03 ms /   154 runs   (   38.65 ms per token,    25.87 tokens per second)\n",
      "llama_print_timings:       total time = 16830.86 ms\n"
     ]
    }
   ],
   "source": [
    "output=llm(prompt)"
   ]
  },
  {
   "cell_type": "code",
   "execution_count": 48,
   "metadata": {},
   "outputs": [
    {
     "name": "stdout",
     "output_type": "stream",
     "text": [
      "\n",
      "Overall, the Harley Davidson x440 is an exceptional motorcycle that delivers on performance, style, and value for money. From the buying experience to the riding experience, customers are impressed with the brand's attention to detail and commitment to customer satisfaction. The bike's powerful engine, superior handling, and sleek design make it a standout in its segment, and its competitive pricing makes it an attractive option for biking enthusiasts. Whether cruising on highways or tackling challenging corners, the Harley Davidson x440 offers unmatched power and responsiveness that embodies the spirit of biking excellence. It's no wonder that this bike has received rave reviews from customers and industry experts alike.\n"
     ]
    }
   ],
   "source": [
    "print(output)"
   ]
  },
  {
   "cell_type": "code",
   "execution_count": 49,
   "metadata": {},
   "outputs": [
    {
     "data": {
      "text/plain": [
       "\"<|system|>\\nBelow is an instruction that describes a task. Write a response that appropriately completes the request.\\n\\n<|user|>\\nAnswer all the questions in this Chat, based on the text below : The buying experience of the Harley Davidson x440 is a seamless and professional process. From exploring its website to visiting a dealership, the brand ensures that customers are well-informed about the product's features, specifications, and pricing. The sales representatives are knowledgeable and attentive, answering all queries promptly and guiding buyers in selecting the most suitable model. Once purchased, the riding experience on the Harley Davidson x440 is unparalleled. With its powerful engine and superior handling, it effortlessly maneuvers through various terrains with precision and stability. Its sleek design exudes sophistication while maintaining its iconic Harley Davidson identity. The attention to detail in every aspect of this motorcycle is evident from its exceptional build quality to its comfortable seating position. When it comes to performance, the x440 delivers without compromise; whether cruising on highways or tackling challenging corners, it offers unmatched power and responsiveness. In conclusion, owning a Harley Davidson x440 truly embodies the spirit of biking excellence coupled with an exceptional buying experience.\\nThis is my first Harley Davidson bike. I have been waiting for the last 2 years for a budget-friendly and luxury-looking cruiser bike. This fits my expectations very well. Service should be done after 10000 km or every one year. Always take a service from the agency for the betterment of the bike. Overall performance is awesome.\\nBuying experience was good as it was from the Harley showroom, in Hyderabad. I booked for the top end but as it was taking more time to get delivery took the vivid model, which is the value-for-money model. \\nThe riding experience is superb, it's already been 1 month and 500km I am using it but still searching for opportunities to ride my bike again and again. The power and torque are just wow. I ride mostly in the Hyderabad city traffic but my experience is very good. Easy to handle even in traffic. And that quick maneuver when the signal opens is superb.\\nThe looks and build quality is very good. One thing is the wire/cable management would have been better. The front riding handle cable as well as the cable that went to the rear wheel brake mechanism could have been better quality. The mirror is not sufficient for the rearview. \\nHandling is very good and the break performance is very good.\\nNot yet done the first service.\\nCompared to RE, which will cost you 3L onroad, it gives the same 15year engine with cosmetic changes with different color options we can go for X440 with some 50K additional for the improved and powerful engine 440cc, 27bhp with 38NM torque. All LED light setup with beautiful looks and signature DRL and projector lamp.\\nHarley-Davidson X440 is a powerful motorcycle with a comfortable seating position and a refined, ergonomic design. Performance The X440 is powerful and responsive. Handling The X440 is easy to handle and stable at high speed. The X440 has an assist and slipper clutch. There are a few things for make the x440 the best bike.\\nVery convenient experience, staff were very helpful. Great and  Comfortable, torque and power are very, recommended as compared to torque and handling. Slim decent look, charming personality, and performance are also very impressive with their looks. Compatible friendly services at the service station, maintaining is cheaper as you get used to it. It gives a very good personality, speed, power, and handling is awesome, compatible mileage. I think it is a kind of lightweight as a brand company it should be much bulkier.\\nIt's a very good bike for riding. It's also good for a long journey. When it comes to performance, the x440 delivers without compromise; whether cruising on highways or tackling challenging corners, it offers unmatched power and responsiveness. In conclusion, owning a Harley Davidson x440 truly embodies the spirit of biking excellence coupled with an exceptional buying experience.\\nI bought the Harley Davidson X440 S variant. I got this delivered on 26th October. And have driven in Bangalore traffic conditions as well as taken it out.\\nBuying Experience:\\nThe buying experience was good and the Harley staff behaviour was very nice.\\nRiding Experience :\\nThis is the most unexpected part. I have driven a splendour before this for 6 years and was afraid that in traffic, I would have to struggle. But I was blown away by the handling of this motorcycle. Once u have switched it on, you don't feel the weight. The motorcycle was able to easily come out of traffic.\\nThe response of the bike is amazing, and as soon as you pull the accelerator, you feel the power. And for one long trip I did, this bike feels amazing on the 5th and 6th gear. A relaxed effortless cruising experience. \\nPros :\\n1. Great Handing\\n2. Smooth Cruising Experience\\n3. Great throttle response\\n4. Eye-catching, absolutely stunning-looking bike\\n5. Road Presence \\n6. Great suspension\\nDream bike for me, have no other experience with this bike but its look and performance look quite awesome with modern technology.\\nIt weighs less than the Royal Enfield classic and its performance is better than RE.\\nThe sound is lovable as heard in the video review just eagerly waiting for that day when I own this real road king.\\nLooks awesome like a typical HarleySound feels great and the seating position looks promising. I am going for this bike. It's definitely the best among the rivals in all aspects. \\nThough the engine is made by Hero, I don't see any hero are much more durable and less maintained. \\nWhat else do we need.. its a perfect motorcycle to go for all age groups.\\nThe pricing of the base variant is good. But lack in features like navigation,gear indicators,traction control,only air cooling system.  But the ergonomics seems good . The ride will be comfortable. Harley provides lcd display but no navigation no connectivity features etc. But harley didn't overpriced it. I think it's a value for money. At least it is a Harley Davidson . In the books they claim that this bike gets 35 km mileage,that is a decent mileage\\nFirstly the bike was excellent good milage the engine capacity was soo good in this budget soo good experience in riding this bike good performance excellent milage use tube less tyres for vloggers and riders for tours after the service bike was so fresh like a showroom bike it was soo good bike I have ever seen\\nAmazing bike from harley and hero collaboration.With both front and rear disc brakes, Harley-Davidson X440 comes up with anti-locking braking system. This X440 bike weighs 190.5 kg and has a fuel tank capacity of 13.5 liters.2.29 Lakh and goes upto Rs. 2.69 Lakh. Harley Davidson X440 is offered in 3 variants - Denim, Vivid and the top variant X440 S which comes at a price tag of Rs. 2.69 Lakh.\\nGreat experience i recently purchased this bike and my riding experience is very out standing wow wow wow harley davidson it's sports bike ilove this bike looks premium and sharap performance is okay not a great but one thing is milega is very low and service and maintenance charges is higher than other normal bikes but it's not major things for sports bike lovers and iam fully satisfied with this bike and recommend this bike for purchase all people from india great experience harley davidson top speed is 130❤️❤️🥰🥰\\nWaited for 3 month to get this product launch and now even after launch delivery dates are of october.\\nThis is really bad marketing. Why to launch a bike in so much advance when it's not available to deliver and also there is no bike available for display or test ride. Who wants to book a bike worth 3 lakh without sitting on it taking a nearby look.\\nFinally i bought honda h'ness cb350 and happy with my purchase .\\nFully comfortable to ride for 400-500 Km and the bike mileage is normal the bike Bike is very good and the price is satisfactory. I really loved this Harley Davidson x440.  its competitors especially better than Royal Enfield Classic 350, Triumph Speed 400, Royal Enfield Hunter 350, etc. I will definitely buy this bike for sure.\\nHarley is a dream for all indians and in this price range wah from all indians, this bike will be one of the best segments in the indian bikes category, look and rate are almost unique. At the outset, i have to admit that i admire harley-davidson for their new approach to motorcycles. For a manufacturer that’s steeped in history with big, air-cooled v-twin powered bikes dominating their portfolio, and to some extent their identity, the new line of harley-davidson motorcycles represent their efforts of moving with the times.\\nI don't buy this bike.... But I will but it definitely if my budget is upto 2.5 lakh. It is best among all of its competitors especially better then Royal Enfield\\nHarley-davidson has a better brand value then Royal Enfield it's like to buy a I phone instead of samsung. One day I will definitely buy this bike for sure\\nThis bike is very first bike introduced by Harley Davidson in India. I hope this bike will not disappoint us. Another reason to love this bike is that this bike is gonna be super cool and the looks of this bike is very awesome 👍  at last I just want to say that I really loved this Harley davidson x440\\nBike is very good and the price is satisfactory the bike mileage is normal the bike suspension is gorgeous I love this bike's sound you will buy this bike the tyre and suspension is good  and the bike engine  is very powerful engine the gears 5 gears it's very good bike in this price\\nGreat to bring this model to my country. people will accept this motor cycle. Really it will going to grab the India roads .bike looks good.hero and harley David son both companies will hit the market by giving this motor cycle and it's dream to buy this motor cycle for best price and I'm going to buy this as soon as possible and it's my dream\\nPros:\\nRiding experience was awesome. The comfort is great. The exhaust note is just WOW! This bike is a blend of modern as well as retro. Amazing features like auto glow headlamps and Harley badging on the headlamp. \\nCons:\\nThe gap between the fuel tank and the headlamp area seems a bit empty from the side profile. \\nSuspensions could have been much better for bumpy rides.\\nThe buying experience was fantastic. I got this on the first day of x440 delivery that too first bike owned by SR Nagar Bhanu Automobiles. There were regional managers present from Harley-Davidson, it was a great feeling.\\nThe bike was amazing in its looks the sound was mind-blowing and the pickup was beyond my expectations.<|assistant|>\\nOverall, the Harley Davidson x440 is an exceptional motorcycle that delivers on performance, style, and value for money. From the buying experience to the riding experience, customers are impressed with the brand's attention to detail and commitment to customer satisfaction. The bike's powerful engine, superior handling, and sleek design make it a standout in its segment, and its competitive pricing makes it an attractive option for biking enthusiasts. Whether cruising on highways or tackling challenging corners, the Harley Davidson x440 offers unmatched power and responsiveness that embodies the spirit of biking excellence. It's no wonder that this bike has received rave reviews from customers and industry experts alike.\""
      ]
     },
     "execution_count": 49,
     "metadata": {},
     "output_type": "execute_result"
    }
   ],
   "source": [
    "prompt=prompt+output\n",
    "prompt"
   ]
  },
  {
   "cell_type": "code",
   "execution_count": 50,
   "metadata": {},
   "outputs": [],
   "source": [
    "prompt=prompt+\"|<user>|What are the main cons of Harley X440?|<assistant>|\""
   ]
  },
  {
   "cell_type": "code",
   "execution_count": 51,
   "metadata": {},
   "outputs": [
    {
     "name": "stderr",
     "output_type": "stream",
     "text": [
      "Llama.generate: prefix-match hit\n",
      "\n",
      "llama_print_timings:        load time =  1840.12 ms\n",
      "llama_print_timings:      sample time =   269.89 ms /   305 runs   (    0.88 ms per token,  1130.07 tokens per second)\n",
      "llama_print_timings: prompt eval time =   526.79 ms /    24 tokens (   21.95 ms per token,    45.56 tokens per second)\n",
      "llama_print_timings:        eval time = 12134.75 ms /   304 runs   (   39.92 ms per token,    25.05 tokens per second)\n",
      "llama_print_timings:       total time = 14057.97 ms\n"
     ]
    }
   ],
   "source": [
    "output=llm(prompt)"
   ]
  },
  {
   "cell_type": "code",
   "execution_count": 52,
   "metadata": {},
   "outputs": [
    {
     "data": {
      "text/plain": [
       "\"Based on the feedback provided by some customers, here are a few cons of the Harley Davidson x440:\\n1. Wire/cable management could be better, particularly for the front riding handle cable and the cable that goes to the rear wheel brake mechanism.\\n2. The mirror provided is not sufficient for rearview visibility.\\n3. The gap between the fuel tank and the headlamp area seems a bit empty from the side profile.\\n4. Suspensions could have been better for bumpy rides.\\n5. Some customers feel that the bike's mileage is on the lower side, and service and maintenance charges are higher than other normal bikes in its segment.\\n6. Delayed delivery dates after launch, which some customers find disappointing as they prefer to test drive and sit on the bike before making a purchase decision.\\n7. The price of the base variant is good, but it lacks features like navigation, gear indicators, traction control, and only has air cooling system.\\n8. Some customers feel that the bike's weight could be lighter, particularly when compared to its competitors in the same segment.\\n9. The bike's top speed is lower than some of its competitors, which may not appeal to all sports bike enthusiasts.\\n10. Some customers find the lack of connectivity features and an LCD display with navigation disappointing, as they prefer these features in their motorcycles.\""
      ]
     },
     "execution_count": 52,
     "metadata": {},
     "output_type": "execute_result"
    }
   ],
   "source": [
    "output"
   ]
  },
  {
   "cell_type": "code",
   "execution_count": 53,
   "metadata": {},
   "outputs": [
    {
     "name": "stdout",
     "output_type": "stream",
     "text": [
      "Based on the feedback provided by some customers, here are a few cons of the Harley Davidson x440:\n",
      "1. Wire/cable management could be better, particularly for the front riding handle cable and the cable that goes to the rear wheel brake mechanism.\n",
      "2. The mirror provided is not sufficient for rearview visibility.\n",
      "3. The gap between the fuel tank and the headlamp area seems a bit empty from the side profile.\n",
      "4. Suspensions could have been better for bumpy rides.\n",
      "5. Some customers feel that the bike's mileage is on the lower side, and service and maintenance charges are higher than other normal bikes in its segment.\n",
      "6. Delayed delivery dates after launch, which some customers find disappointing as they prefer to test drive and sit on the bike before making a purchase decision.\n",
      "7. The price of the base variant is good, but it lacks features like navigation, gear indicators, traction control, and only has air cooling system.\n",
      "8. Some customers feel that the bike's weight could be lighter, particularly when compared to its competitors in the same segment.\n",
      "9. The bike's top speed is lower than some of its competitors, which may not appeal to all sports bike enthusiasts.\n",
      "10. Some customers find the lack of connectivity features and an LCD display with navigation disappointing, as they prefer these features in their motorcycles.\n"
     ]
    }
   ],
   "source": [
    "print(output)"
   ]
  },
  {
   "cell_type": "code",
   "execution_count": 58,
   "metadata": {},
   "outputs": [],
   "source": [
    "prompt=prompt+output+\"|<user>| What are the key points mentioned regarding the performance of Harley X440? \\n |<assistant>|\""
   ]
  },
  {
   "cell_type": "code",
   "execution_count": 59,
   "metadata": {},
   "outputs": [
    {
     "name": "stderr",
     "output_type": "stream",
     "text": [
      "Llama.generate: prefix-match hit\n",
      "\n",
      "llama_print_timings:        load time =  1840.12 ms\n",
      "llama_print_timings:      sample time =   256.31 ms /   298 runs   (    0.86 ms per token,  1162.65 tokens per second)\n",
      "llama_print_timings: prompt eval time =   582.46 ms /    30 tokens (   19.42 ms per token,    51.51 tokens per second)\n",
      "llama_print_timings:        eval time = 12699.54 ms /   297 runs   (   42.76 ms per token,    23.39 tokens per second)\n",
      "llama_print_timings:       total time = 14616.58 ms\n"
     ]
    }
   ],
   "source": [
    "output=llm(prompt)"
   ]
  },
  {
   "cell_type": "code",
   "execution_count": 60,
   "metadata": {},
   "outputs": [
    {
     "name": "stdout",
     "output_type": "stream",
     "text": [
      " Based on the feedback provided by some customers, here are the key points mentioned regarding the performance of the Harley Davidson x440:\n",
      "1. The bike's engine is powerful and responsive, with a 443cc Revolution X-V Twin engine that delivers 27bhp at 8250rpm and 38Nm of torque at 6000rpm.\n",
      "2. Handling is easy and stable, even in traffic conditions.\n",
      "3. The bike's quick maneuver when the signal opens is superb.\n",
      "4. The bike's assist and slipper clutch make it convenient to ride.\n",
      "5. The bike's throttle response is amazing, and once you switch it on, you don't feel the weight.\n",
      "6. The bike's suspension is comfortable for long journeys, particularly in the 5th and 6th gear.\n",
      "7. The bike's sound is lovable, as heard in video reviews.\n",
      "8. The bike's performance is better than its competitors like the Royal Enfield Classic and Triumph Speed 400.\n",
      "9. The bike's mileage is normal, but some customers feel that it could be higher.\n",
      "10. The bike's top speed is 130km/h, which may not appeal to all sports bike enthusiasts.\n"
     ]
    }
   ],
   "source": [
    "print(output)"
   ]
  },
  {
   "cell_type": "code",
   "execution_count": 61,
   "metadata": {},
   "outputs": [],
   "source": [
    "prompt=prompt+output+\"|<user>| What are the users comments about mileage of Harley X440 \\n |<assistant>|\""
   ]
  },
  {
   "cell_type": "code",
   "execution_count": 62,
   "metadata": {},
   "outputs": [
    {
     "name": "stderr",
     "output_type": "stream",
     "text": [
      "Llama.generate: prefix-match hit\n",
      "\n",
      "llama_print_timings:        load time =  1840.12 ms\n",
      "llama_print_timings:      sample time =   106.90 ms /   133 runs   (    0.80 ms per token,  1244.15 tokens per second)\n",
      "llama_print_timings: prompt eval time =   631.70 ms /    28 tokens (   22.56 ms per token,    44.32 tokens per second)\n",
      "llama_print_timings:        eval time =  5793.27 ms /   132 runs   (   43.89 ms per token,    22.79 tokens per second)\n",
      "llama_print_timings:       total time =  6860.12 ms\n"
     ]
    }
   ],
   "source": [
    "output=llm(prompt)"
   ]
  },
  {
   "cell_type": "code",
   "execution_count": 63,
   "metadata": {},
   "outputs": [
    {
     "name": "stdout",
     "output_type": "stream",
     "text": [
      " Based on the feedback provided by some customers, here are the users' comments about the mileage of the Harley Davidson x440:\n",
      "1. Some customers feel that the bike's mileage is normal and could be higher.\n",
      "2. The bike's mileage is mentioned as 35kmpl in the brochure, but some customers find this claim to be exaggerated.\n",
      "3. However, other customers are satisfied with the bike's mileage and do not consider it a major concern.\n",
      "4. Overall, the bike's performance and features outweigh concerns about mileage for many customers.\n"
     ]
    }
   ],
   "source": [
    "print(output)"
   ]
  },
  {
   "cell_type": "code",
   "execution_count": 64,
   "metadata": {},
   "outputs": [],
   "source": [
    "prompt=prompt+output+\"|<user>| Which bikes are compared with Harley X440? \\n |<assistant>|\""
   ]
  },
  {
   "cell_type": "code",
   "execution_count": 65,
   "metadata": {},
   "outputs": [
    {
     "name": "stderr",
     "output_type": "stream",
     "text": [
      "Llama.generate: prefix-match hit\n"
     ]
    },
    {
     "name": "stdout",
     "output_type": "stream",
     "text": [
      " Based on the feedback provided by some customers, here are the bikes that are compared with the Harley Davidson x440:\n",
      "1. Royal Enfield Classic\n",
      "2. Triumph Speed 400\n",
      "3. Royal Enfield Hunter 350\n"
     ]
    },
    {
     "name": "stderr",
     "output_type": "stream",
     "text": [
      "\n",
      "llama_print_timings:        load time =  1840.12 ms\n",
      "llama_print_timings:      sample time =    49.75 ms /    57 runs   (    0.87 ms per token,  1145.75 tokens per second)\n",
      "llama_print_timings: prompt eval time =   579.30 ms /    26 tokens (   22.28 ms per token,    44.88 tokens per second)\n",
      "llama_print_timings:        eval time =  2485.95 ms /    56 runs   (   44.39 ms per token,    22.53 tokens per second)\n",
      "llama_print_timings:       total time =  3341.63 ms\n"
     ]
    }
   ],
   "source": [
    "output=llm(prompt)\n",
    "print(output)"
   ]
  },
  {
   "cell_type": "code",
   "execution_count": 18,
   "metadata": {},
   "outputs": [],
   "source": [
    "sys_prompt='''<|system|>\n",
    "Below is an instruction that describes a task. Write a response that appropriately completes the request.\n",
    "Answer all the questions in this Chat, based on the text below : '''+text+\"\\n<|user|>\""
   ]
  },
  {
   "cell_type": "code",
   "execution_count": 19,
   "metadata": {},
   "outputs": [],
   "source": [
    "prompt=sys_prompt+\"What are the users comments about mileage of Harley X440 \\n |<assistant>|\""
   ]
  },
  {
   "cell_type": "code",
   "execution_count": 20,
   "metadata": {},
   "outputs": [
    {
     "name": "stderr",
     "output_type": "stream",
     "text": [
      "Llama.generate: prefix-match hit\n",
      "\n",
      "llama_print_timings:        load time =  1636.73 ms\n",
      "llama_print_timings:      sample time =   103.84 ms /   126 runs   (    0.82 ms per token,  1213.45 tokens per second)\n",
      "llama_print_timings: prompt eval time =     0.00 ms /     1 tokens (    0.00 ms per token,      inf tokens per second)\n",
      "llama_print_timings:        eval time =  5048.22 ms /   126 runs   (   40.07 ms per token,    24.96 tokens per second)\n",
      "llama_print_timings:       total time =  5492.09 ms\n"
     ]
    }
   ],
   "source": [
    "output=llm(prompt)"
   ]
  },
  {
   "cell_type": "code",
   "execution_count": 21,
   "metadata": {},
   "outputs": [
    {
     "name": "stdout",
     "output_type": "stream",
     "text": [
      ">\n",
      "Some users have mentioned that the mileage of Harley Davidson X440 is normal, while others have expressed that it's not great but satisfactory. Specific mileage figures mentioned by users range from 35 kmpl (claimed by the manufacturer) to around 25-30 kmpl in real-world conditions. However, it should be noted that mileage can vary based on factors such as riding style, terrain, and maintenance. Overall, mileage seems to be a minor concern for users who are more focused on the bike's performance, looks, and brand value.\n"
     ]
    }
   ],
   "source": [
    "print(output)"
   ]
  },
  {
   "cell_type": "code",
   "execution_count": 29,
   "metadata": {},
   "outputs": [],
   "source": [
    "prompt=sys_prompt+\"What are the  cons of Harley X440?\\n|<assistant>|\""
   ]
  },
  {
   "cell_type": "code",
   "execution_count": 30,
   "metadata": {},
   "outputs": [
    {
     "name": "stdout",
     "output_type": "stream",
     "text": [
      ">\n",
      "Based on the responses provided, some cons mentioned by users include:\n",
      "\n",
      "1. Wire/cable management could be better for the front riding handle cable and rear wheel brake mechanism.\n",
      "2. The mirror could be insufficient for the rearview.\n",
      "3. The gap between the fuel tank and headlamp area seems a bit empty from the side profile.\n",
      "4. Suspensions could have been much better for bumpy rides.\n",
      "5. Some users mentioned that the mileage is low compared to other bikes in its segment.\n",
      "6. Delayed delivery times, as some users had to wait several months after booking their bike.\n",
      "7. The price of the base variant is good, but it lacks features like navigation, gear indicators, and traction control, which are available in competitors' bikes.\n",
      "8. Some users found the service and maintenance charges to be higher than other normal bikes.\n"
     ]
    },
    {
     "name": "stderr",
     "output_type": "stream",
     "text": [
      "\n",
      "llama_print_timings:        load time =  1647.85 ms\n",
      "llama_print_timings:      sample time =   142.80 ms /   196 runs   (    0.73 ms per token,  1372.53 tokens per second)\n",
      "llama_print_timings: prompt eval time =  7955.75 ms /  2645 tokens (    3.01 ms per token,   332.46 tokens per second)\n",
      "llama_print_timings:        eval time =  7519.02 ms /   195 runs   (   38.56 ms per token,    25.93 tokens per second)\n",
      "llama_print_timings:       total time = 15913.15 ms\n"
     ]
    }
   ],
   "source": [
    "output=llm(prompt)\n",
    "print(output)"
   ]
  },
  {
   "cell_type": "code",
   "execution_count": 31,
   "metadata": {},
   "outputs": [],
   "source": [
    "prompt=sys_prompt+\"Can you pick lines from the review which talk about gap betwen fuel tank and headlamp area\\n|<assistant>|\""
   ]
  },
  {
   "cell_type": "code",
   "execution_count": 32,
   "metadata": {},
   "outputs": [
    {
     "name": "stderr",
     "output_type": "stream",
     "text": [
      "Llama.generate: prefix-match hit\n"
     ]
    },
    {
     "name": "stdout",
     "output_type": "stream",
     "text": [
      "Cons:\n",
      "- The gap between the fuel tank and the headlamp area seems a bit empty from the side profile.\n"
     ]
    },
    {
     "name": "stderr",
     "output_type": "stream",
     "text": [
      "\n",
      "llama_print_timings:        load time =  1647.85 ms\n",
      "llama_print_timings:      sample time =    19.15 ms /    26 runs   (    0.74 ms per token,  1357.42 tokens per second)\n",
      "llama_print_timings: prompt eval time =   386.63 ms /    27 tokens (   14.32 ms per token,    69.83 tokens per second)\n",
      "llama_print_timings:        eval time =   957.62 ms /    25 runs   (   38.30 ms per token,    26.11 tokens per second)\n",
      "llama_print_timings:       total time =  1418.36 ms\n"
     ]
    }
   ],
   "source": [
    "output=llm(prompt)\n",
    "print(output)"
   ]
  },
  {
   "cell_type": "code",
   "execution_count": 37,
   "metadata": {},
   "outputs": [],
   "source": [
    "prompt=sys_prompt+\"Can you pick lines from the review which talk about cable or wire management\\n|<assistant>|\""
   ]
  },
  {
   "cell_type": "code",
   "execution_count": 38,
   "metadata": {},
   "outputs": [
    {
     "name": "stderr",
     "output_type": "stream",
     "text": [
      "Llama.generate: prefix-match hit\n"
     ]
    },
    {
     "name": "stdout",
     "output_type": "stream",
     "text": [
      "\n",
      "Yes, here are some lines from the review that discuss cable or wire management:\n",
      "\n",
      "- \"The front riding handle cable as well as the cable that went to the rear wheel brake mechanism could have been better quality.\"\n",
      "\n",
      "- \"Handling is very good and the break performance is very good. Not yet done the first service. Compared to RE, which will cost you 3L onroad, it gives the same 15year engine with cosmetic changes we can go for X440 with some 50K additional for the improved and powerful engine 440cc, 27bhp with 38NM torque. All LED light setup with beautiful looks and signature DRL and projector lamp.\"\n",
      "\n",
      "- \"The wire/cable management would have been better.\"\n"
     ]
    },
    {
     "name": "stderr",
     "output_type": "stream",
     "text": [
      "\n",
      "llama_print_timings:        load time =  1647.85 ms\n",
      "llama_print_timings:      sample time =   147.44 ms /   170 runs   (    0.87 ms per token,  1153.03 tokens per second)\n",
      "llama_print_timings: prompt eval time =   334.95 ms /    10 tokens (   33.49 ms per token,    29.86 tokens per second)\n",
      "llama_print_timings:        eval time =  6526.22 ms /   169 runs   (   38.62 ms per token,    25.90 tokens per second)\n",
      "llama_print_timings:       total time =  7603.20 ms\n"
     ]
    }
   ],
   "source": [
    "output=llm(prompt)\n",
    "print(output)"
   ]
  },
  {
   "cell_type": "code",
   "execution_count": 36,
   "metadata": {},
   "outputs": [
    {
     "name": "stdout",
     "output_type": "stream",
     "text": [
      "The buying experience of the Harley Davidson x440 is a seamless and professional process. From exploring its website to visiting a dealership, the brand ensures that customers are well-informed about the product's features, specifications, and pricing. The sales representatives are knowledgeable and attentive, answering all queries promptly and guiding buyers in selecting the most suitable model. Once purchased, the riding experience on the Harley Davidson x440 is unparalleled. With its powerful engine and superior handling, it effortlessly maneuvers through various terrains with precision and stability. Its sleek design exudes sophistication while maintaining its iconic Harley Davidson identity. The attention to detail in every aspect of this motorcycle is evident from its exceptional build quality to its comfortable seating position. When it comes to performance, the x440 delivers without compromise; whether cruising on highways or tackling challenging corners, it offers unmatched power and responsiveness. In conclusion, owning a Harley Davidson x440 truly embodies the spirit of biking excellence coupled with an exceptional buying experience.\n",
      "This is my first Harley Davidson bike. I have been waiting for the last 2 years for a budget-friendly and luxury-looking cruiser bike. This fits my expectations very well. Service should be done after 10000 km or every one year. Always take a service from the agency for the betterment of the bike. Overall performance is awesome.\n",
      "Buying experience was good as it was from the Harley showroom, in Hyderabad. I booked for the top end but as it was taking more time to get delivery took the vivid model, which is the value-for-money model. \n",
      "The riding experience is superb, it's already been 1 month and 500km I am using it but still searching for opportunities to ride my bike again and again. The power and torque are just wow. I ride mostly in the Hyderabad city traffic but my experience is very good. Easy to handle even in traffic. And that quick maneuver when the signal opens is superb.\n",
      "The looks and build quality is very good. One thing is the wire/cable management would have been better. The front riding handle cable as well as the cable that went to the rear wheel brake mechanism could have been better quality. The mirror is not sufficient for the rearview. \n",
      "Handling is very good and the break performance is very good.\n",
      "Not yet done the first service.\n",
      "Compared to RE, which will cost you 3L onroad, it gives the same 15year engine with cosmetic changes with different color options we can go for X440 with some 50K additional for the improved and powerful engine 440cc, 27bhp with 38NM torque. All LED light setup with beautiful looks and signature DRL and projector lamp.\n",
      "Harley-Davidson X440 is a powerful motorcycle with a comfortable seating position and a refined, ergonomic design. Performance The X440 is powerful and responsive. Handling The X440 is easy to handle and stable at high speed. The X440 has an assist and slipper clutch. There are a few things for make the x440 the best bike.\n",
      "Very convenient experience, staff were very helpful. Great and  Comfortable, torque and power are very, recommended as compared to torque and handling. Slim decent look, charming personality, and performance are also very impressive with their looks. Compatible friendly services at the service station, maintaining is cheaper as you get used to it. It gives a very good personality, speed, power, and handling is awesome, compatible mileage. I think it is a kind of lightweight as a brand company it should be much bulkier.\n",
      "It's a very good bike for riding. It's also good for a long journey. When it comes to performance, the x440 delivers without compromise; whether cruising on highways or tackling challenging corners, it offers unmatched power and responsiveness. In conclusion, owning a Harley Davidson x440 truly embodies the spirit of biking excellence coupled with an exceptional buying experience.\n",
      "I bought the Harley Davidson X440 S variant. I got this delivered on 26th October. And have driven in Bangalore traffic conditions as well as taken it out.\n",
      "Buying Experience:\n",
      "The buying experience was good and the Harley staff behaviour was very nice.\n",
      "Riding Experience :\n",
      "This is the most unexpected part. I have driven a splendour before this for 6 years and was afraid that in traffic, I would have to struggle. But I was blown away by the handling of this motorcycle. Once u have switched it on, you don't feel the weight. The motorcycle was able to easily come out of traffic.\n",
      "The response of the bike is amazing, and as soon as you pull the accelerator, you feel the power. And for one long trip I did, this bike feels amazing on the 5th and 6th gear. A relaxed effortless cruising experience. \n",
      "Pros :\n",
      "1. Great Handing\n",
      "2. Smooth Cruising Experience\n",
      "3. Great throttle response\n",
      "4. Eye-catching, absolutely stunning-looking bike\n",
      "5. Road Presence \n",
      "6. Great suspension\n",
      "Dream bike for me, have no other experience with this bike but its look and performance look quite awesome with modern technology.\n",
      "It weighs less than the Royal Enfield classic and its performance is better than RE.\n",
      "The sound is lovable as heard in the video review just eagerly waiting for that day when I own this real road king.\n",
      "Looks awesome like a typical HarleySound feels great and the seating position looks promising. I am going for this bike. It's definitely the best among the rivals in all aspects. \n",
      "Though the engine is made by Hero, I don't see any hero are much more durable and less maintained. \n",
      "What else do we need.. its a perfect motorcycle to go for all age groups.\n",
      "The pricing of the base variant is good. But lack in features like navigation,gear indicators,traction control,only air cooling system.  But the ergonomics seems good . The ride will be comfortable. Harley provides lcd display but no navigation no connectivity features etc. But harley didn't overpriced it. I think it's a value for money. At least it is a Harley Davidson . In the books they claim that this bike gets 35 km mileage,that is a decent mileage\n",
      "Firstly the bike was excellent good milage the engine capacity was soo good in this budget soo good experience in riding this bike good performance excellent milage use tube less tyres for vloggers and riders for tours after the service bike was so fresh like a showroom bike it was soo good bike I have ever seen\n",
      "Amazing bike from harley and hero collaboration.With both front and rear disc brakes, Harley-Davidson X440 comes up with anti-locking braking system. This X440 bike weighs 190.5 kg and has a fuel tank capacity of 13.5 liters.2.29 Lakh and goes upto Rs. 2.69 Lakh. Harley Davidson X440 is offered in 3 variants - Denim, Vivid and the top variant X440 S which comes at a price tag of Rs. 2.69 Lakh.\n",
      "Great experience i recently purchased this bike and my riding experience is very out standing wow wow wow harley davidson it's sports bike ilove this bike looks premium and sharap performance is okay not a great but one thing is milega is very low and service and maintenance charges is higher than other normal bikes but it's not major things for sports bike lovers and iam fully satisfied with this bike and recommend this bike for purchase all people from india great experience harley davidson top speed is 130❤️❤️🥰🥰\n",
      "Waited for 3 month to get this product launch and now even after launch delivery dates are of october.\n",
      "This is really bad marketing. Why to launch a bike in so much advance when it's not available to deliver and also there is no bike available for display or test ride. Who wants to book a bike worth 3 lakh without sitting on it taking a nearby look.\n",
      "Finally i bought honda h'ness cb350 and happy with my purchase .\n",
      "Fully comfortable to ride for 400-500 Km and the bike mileage is normal the bike Bike is very good and the price is satisfactory. I really loved this Harley Davidson x440.  its competitors especially better than Royal Enfield Classic 350, Triumph Speed 400, Royal Enfield Hunter 350, etc. I will definitely buy this bike for sure.\n",
      "Harley is a dream for all indians and in this price range wah from all indians, this bike will be one of the best segments in the indian bikes category, look and rate are almost unique. At the outset, i have to admit that i admire harley-davidson for their new approach to motorcycles. For a manufacturer that’s steeped in history with big, air-cooled v-twin powered bikes dominating their portfolio, and to some extent their identity, the new line of harley-davidson motorcycles represent their efforts of moving with the times.\n",
      "I don't buy this bike.... But I will but it definitely if my budget is upto 2.5 lakh. It is best among all of its competitors especially better then Royal Enfield\n",
      "Harley-davidson has a better brand value then Royal Enfield it's like to buy a I phone instead of samsung. One day I will definitely buy this bike for sure\n",
      "This bike is very first bike introduced by Harley Davidson in India. I hope this bike will not disappoint us. Another reason to love this bike is that this bike is gonna be super cool and the looks of this bike is very awesome 👍  at last I just want to say that I really loved this Harley davidson x440\n",
      "Bike is very good and the price is satisfactory the bike mileage is normal the bike suspension is gorgeous I love this bike's sound you will buy this bike the tyre and suspension is good  and the bike engine  is very powerful engine the gears 5 gears it's very good bike in this price\n",
      "Great to bring this model to my country. people will accept this motor cycle. Really it will going to grab the India roads .bike looks good.hero and harley David son both companies will hit the market by giving this motor cycle and it's dream to buy this motor cycle for best price and I'm going to buy this as soon as possible and it's my dream\n",
      "Pros:\n",
      "Riding experience was awesome. The comfort is great. The exhaust note is just WOW! This bike is a blend of modern as well as retro. Amazing features like auto glow headlamps and Harley badging on the headlamp. \n",
      "Cons:\n",
      "The gap between the fuel tank and the headlamp area seems a bit empty from the side profile. \n",
      "Suspensions could have been much better for bumpy rides.\n",
      "The buying experience was fantastic. I got this on the first day of x440 delivery that too first bike owned by SR Nagar Bhanu Automobiles. There were regional managers present from Harley-Davidson, it was a great feeling.\n",
      "The bike was amazing in its looks the sound was mind-blowing and the pickup was beyond my expectations.\n"
     ]
    }
   ],
   "source": [
    "print(text)"
   ]
  },
  {
   "cell_type": "code",
   "execution_count": 39,
   "metadata": {},
   "outputs": [],
   "source": [
    "prompt=sys_prompt+\"Can you pick lines from the review which compare Harley X440 to Royal Enfield?\\n|<assistant>|\""
   ]
  },
  {
   "cell_type": "code",
   "execution_count": 40,
   "metadata": {},
   "outputs": [
    {
     "name": "stderr",
     "output_type": "stream",
     "text": [
      "Llama.generate: prefix-match hit\n"
     ]
    },
    {
     "name": "stdout",
     "output_type": "stream",
     "text": [
      ">\n",
      "1. \"Compared to RE, which will cost you 3L onroad, it gives the same 15year engine with cosmetic changes with different color options we can go for X440 with some 50K additional for the improved and powerful engine 440cc, 27bhp with 38NM torque. All LED light setup with beautiful looks and signature DRL and projector lamp.\"\n",
      "2. \"This bike is very first bike introduced by Harley Davidson in India. I hope this bike will not disappoint us. Another reason to love this bike is that this bike is gonna be super cool and the looks of this bike is very awesome 👍 at last I just want to say that I really loved this Harley davidson x440, better than Royal Enfield.\"\n",
      "3. \"The buying experience was fantastic. I got this on the first day of x440 delivery that too first bike owned by SR Nagar Bhanu Automobiles. There were regional managers present from Harley-Davidson, it was a great feeling. The bike was amazing in its looks the sound was mind-blowing and the pickup was beyond my expectations. Compared to RE, which will cost you 3L onroad, it gives the same 15year engine with cosmetic changes with different color options we can go for X440 with some 50K additional for the improved and powerful engine 440cc, 27bhp with 38NM torque. All LED light setup with beautiful looks and signature DRL and projector lamp.\"\n",
      "4. \"The sound is lovable as heard in the video review just eagerly waiting for that day when I own this real road king. Looks awesome like a typical Harley, Sound feels great and the seating position looks promising. I am going for this bike. It's definitely the best among the rivals in all aspects.\"\n",
      "5. \"Firstly the bike was excellent good milage the engine capacity was soo good in this budget soo good experience in riding this bike good performance excellent mileage use tube less tyres for vloggers and riders for tours after the service bike was so fresh like a showroom bike it was soo good bike I have ever seen\"\n",
      "6. \"The gap between the fuel tank and the headlamp area seems a bit empty from the side profile. Suspensions could have been much better for bumpy rides.\" (This line doesn't directly compare X440 to RE, but it suggests that RE might have better suspension for bumpy roads.)\n",
      "7. \"The buying experience was good as it was from the Harley showroom, in Hyderabad. I booked for the top end but as it was taking more time to get delivery took the vivid model, which is the value-for-money model. The riding experience is superb, it's already been 1 month and 500km I am using it but still searching for opportunities to ride my bike again and again. The power and torque are just wow. I ride mostly in the Hyderabad city traffic but my experience is very good. Easy to handle even in traffic. And that quick maneuver when the signal opens is superb.\" (This review doesn't directly compare X440 to RE, but it suggests that RE might have better handling in traffic.)\n",
      "8. \"The bike was amazing in its looks the sound was mind-blowing and the pickup was beyond my expectations. Compared to RE, which will cost you 3L onroad, it gives the same 15year engine with cosmetic changes with different color options we can go for X440 with some 50K additional for the improved and powerful engine 440cc, 27bhp with 38NM torque. All LED light setup with beautiful looks and signature DRL and projector lamp.\" (This review doesn't directly compare X440 to RE, but it suggests that RE might have similar engine specifications as X440.)\n",
      "9. \"The buying experience was good as it was from the Harley showroom, in Hyderabad. I booked for the top end but as it was taking more time to get delivery took the vivid model, which is the value-for-money model. The riding experience is superb, it's already been 1 month and 500km I am using it but still searching for opportunities to ride my bike again and again. The power and torque are just wow. I ride mostly in the Hyderabad city traffic but my experience is very good. Easy to handle even in traffic.\n"
     ]
    },
    {
     "name": "stderr",
     "output_type": "stream",
     "text": [
      "\n",
      "llama_print_timings:        load time =  1647.85 ms\n",
      "llama_print_timings:      sample time =   873.47 ms /  1000 runs   (    0.87 ms per token,  1144.86 tokens per second)\n",
      "llama_print_timings: prompt eval time =   366.40 ms /    19 tokens (   19.28 ms per token,    51.86 tokens per second)\n",
      "llama_print_timings:        eval time = 40811.97 ms /   999 runs   (   40.85 ms per token,    24.48 tokens per second)\n",
      "llama_print_timings:       total time = 45814.25 ms\n"
     ]
    }
   ],
   "source": [
    "output=llm(prompt)\n",
    "print(output)"
   ]
  },
  {
   "cell_type": "code",
   "execution_count": null,
   "metadata": {},
   "outputs": [],
   "source": []
  }
 ],
 "metadata": {
  "kernelspec": {
   "display_name": "py310-whisper",
   "language": "python",
   "name": "python3"
  },
  "language_info": {
   "codemirror_mode": {
    "name": "ipython",
    "version": 3
   },
   "file_extension": ".py",
   "mimetype": "text/x-python",
   "name": "python",
   "nbconvert_exporter": "python",
   "pygments_lexer": "ipython3",
   "version": "3.10.11"
  }
 },
 "nbformat": 4,
 "nbformat_minor": 2
}
